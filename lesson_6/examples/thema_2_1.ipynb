{
 "cells": [
  {
   "cell_type": "code",
   "execution_count": 1,
   "metadata": {},
   "outputs": [
    {
     "name": "stdout",
     "output_type": "stream",
     "text": [
      "0 0b0 0o0 0x0\n",
      "\n",
      "1 0b1 0o1 0x1\n",
      "2 0b10 0o2 0x2\n",
      "3 0b11 0o3 0x3\n",
      "\n",
      "7 0b111 0o7 0x7\n",
      "8 0b1000 0o10 0x8\n",
      "9 0b1001 0o11 0x9\n",
      "\n",
      "15 0b1111 0o17 0xf\n",
      "16 0b10000 0o20 0x10\n",
      "17 0b10001 0o21 0x11\n"
     ]
    }
   ],
   "source": [
    "x = 0\n",
    "print(x, bin(x), oct(x), hex(x), end='\\n\\n')\n",
    "\n",
    "# bin\n",
    "x = 1\n",
    "print(x, bin(x), oct(x), hex(x))\n",
    "\n",
    "x = 2\n",
    "print(x, bin(x), oct(x), hex(x))\n",
    "\n",
    "x = 3\n",
    "print(x, bin(x), oct(x), hex(x), end='\\n\\n')\n",
    "\n",
    "# oct\n",
    "x = 7\n",
    "print(x, bin(x), oct(x), hex(x))\n",
    "\n",
    "x = 8\n",
    "print(x, bin(x), oct(x), hex(x))\n",
    "\n",
    "x = 9\n",
    "print(x, bin(x), oct(x), hex(x), end='\\n\\n')\n",
    "\n",
    "# hex\n",
    "x = 15\n",
    "print(x, bin(x), oct(x), hex(x))\n",
    "\n",
    "x = 16\n",
    "print(x, bin(x), oct(x), hex(x))\n",
    "\n",
    "x = 17\n",
    "print(x, bin(x), oct(x), hex(x))"
   ]
  }
 ],
 "metadata": {
  "kernelspec": {
   "display_name": "Python 3",
   "language": "python",
   "name": "python3"
  },
  "language_info": {
   "codemirror_mode": {
    "name": "ipython",
    "version": 3
   },
   "file_extension": ".py",
   "mimetype": "text/x-python",
   "name": "python",
   "nbconvert_exporter": "python",
   "pygments_lexer": "ipython3",
   "version": "3.8.5"
  }
 },
 "nbformat": 4,
 "nbformat_minor": 4
}
