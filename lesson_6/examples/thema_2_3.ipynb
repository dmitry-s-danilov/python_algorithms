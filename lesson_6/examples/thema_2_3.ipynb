{
 "cells": [
  {
   "cell_type": "code",
   "execution_count": 1,
   "metadata": {},
   "outputs": [
    {
     "data": {
      "text/plain": [
       "True"
      ]
     },
     "execution_count": 1,
     "metadata": {},
     "output_type": "execute_result"
    }
   ],
   "source": [
    "b = 2 # bin\n",
    "x = {'1': 1, '10': 2,\n",
    "     '11': 3, '100':4,\n",
    "     '101': 5}\n",
    "all([int(_, base=b) == x[_] for _ in x])"
   ]
  },
  {
   "cell_type": "code",
   "execution_count": 2,
   "metadata": {},
   "outputs": [
    {
     "data": {
      "text/plain": [
       "True"
      ]
     },
     "execution_count": 2,
     "metadata": {},
     "output_type": "execute_result"
    }
   ],
   "source": [
    "b = 8 # oct\n",
    "x = {'7': 7, '10': 8, '11': 9,\n",
    "     '17': 15, '20':16, '21': 17}\n",
    "all([int(_, base=b) == x[_] for _ in x])"
   ]
  },
  {
   "cell_type": "code",
   "execution_count": 3,
   "metadata": {},
   "outputs": [
    {
     "data": {
      "text/plain": [
       "True"
      ]
     },
     "execution_count": 3,
     "metadata": {},
     "output_type": "execute_result"
    }
   ],
   "source": [
    "b = 10 # dec\n",
    "x = {'9': 9, '10': 10, '11': 11,\n",
    "     '19': 19, '20': 20, '21': 21}\n",
    "all([int(_, base=b) == x[_] for _ in x])"
   ]
  },
  {
   "cell_type": "code",
   "execution_count": 4,
   "metadata": {},
   "outputs": [
    {
     "data": {
      "text/plain": [
       "True"
      ]
     },
     "execution_count": 4,
     "metadata": {},
     "output_type": "execute_result"
    }
   ],
   "source": [
    "b = 11\n",
    "x = {'a': 10, '10': 11, '11': 12,\n",
    "     '1a': 21, '20': 22, '21': 23}\n",
    "all([int(_, base=b) == x[_] for _ in x])"
   ]
  },
  {
   "cell_type": "code",
   "execution_count": 5,
   "metadata": {},
   "outputs": [
    {
     "data": {
      "text/plain": [
       "True"
      ]
     },
     "execution_count": 5,
     "metadata": {},
     "output_type": "execute_result"
    }
   ],
   "source": [
    "b = 16 # hex\n",
    "x = {'f': 15, '10': 16, '11': 17,\n",
    "     '1f': 31, '20': 32, '21': 33}\n",
    "all([int(_, base=b) == x[_] for _ in x])"
   ]
  },
  {
   "cell_type": "code",
   "execution_count": 6,
   "metadata": {},
   "outputs": [
    {
     "data": {
      "text/plain": [
       "True"
      ]
     },
     "execution_count": 6,
     "metadata": {},
     "output_type": "execute_result"
    }
   ],
   "source": [
    "b = 36\n",
    "x = {'z': 35, '10': 36, '11': 37,\n",
    "     '1z': 71, '20': 72, '21': 73}\n",
    "all([int(_, base=b) == x[_] for _ in x])"
   ]
  }
 ],
 "metadata": {
  "kernelspec": {
   "display_name": "Python 3",
   "language": "python",
   "name": "python3"
  },
  "language_info": {
   "codemirror_mode": {
    "name": "ipython",
    "version": 3
   },
   "file_extension": ".py",
   "mimetype": "text/x-python",
   "name": "python",
   "nbconvert_exporter": "python",
   "pygments_lexer": "ipython3",
   "version": "3.8.5"
  }
 },
 "nbformat": 4,
 "nbformat_minor": 4
}
