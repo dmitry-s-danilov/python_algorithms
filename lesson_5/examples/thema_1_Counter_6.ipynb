{
 "cells": [
  {
   "cell_type": "code",
   "execution_count": 1,
   "metadata": {},
   "outputs": [],
   "source": [
    "from collections import Counter"
   ]
  },
  {
   "cell_type": "code",
   "execution_count": 2,
   "metadata": {},
   "outputs": [],
   "source": [
    "x = Counter(a=1, b=2, c=3, d=0)\n",
    "y = Counter(a=3, b=2, c=1, d=0)"
   ]
  },
  {
   "cell_type": "code",
   "execution_count": 3,
   "metadata": {},
   "outputs": [
    {
     "name": "stdout",
     "output_type": "stream",
     "text": [
      "Counter({'c': 3, 'b': 2, 'a': 1, 'd': 0})\n",
      "Counter({'a': 3, 'b': 2, 'c': 1, 'd': 0})\n",
      "Counter({'a': 4, 'b': 4, 'c': 4})\n",
      "Counter({'a': 4, 'b': 4, 'c': 4}) True\n"
     ]
    }
   ],
   "source": [
    "z = x + y\n",
    "\n",
    "z_1 = y + x\n",
    "z_0 = z_1 == z\n",
    "\n",
    "print(x, y, z, f'{z_1} {z_0}', sep='\\n')"
   ]
  },
  {
   "cell_type": "code",
   "execution_count": 4,
   "metadata": {},
   "outputs": [
    {
     "name": "stdout",
     "output_type": "stream",
     "text": [
      "Counter({'c': 3, 'b': 2, 'a': 1, 'd': 0})\n",
      "Counter({'a': 3, 'b': 2, 'c': 1, 'd': 0})\n",
      "Counter({'c': 2})\n",
      "Counter({'a': 2}) False\n"
     ]
    }
   ],
   "source": [
    "z = x - y\n",
    "\n",
    "z_1 = y - x\n",
    "z_0 = z_1 == z\n",
    "\n",
    "print(x, y, z, f'{z_1} {z_0}', sep='\\n')"
   ]
  }
 ],
 "metadata": {
  "kernelspec": {
   "display_name": "Python 3",
   "language": "python",
   "name": "python3"
  },
  "language_info": {
   "codemirror_mode": {
    "name": "ipython",
    "version": 3
   },
   "file_extension": ".py",
   "mimetype": "text/x-python",
   "name": "python",
   "nbconvert_exporter": "python",
   "pygments_lexer": "ipython3",
   "version": "3.8.5"
  }
 },
 "nbformat": 4,
 "nbformat_minor": 4
}
