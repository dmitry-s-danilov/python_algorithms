{
 "cells": [
  {
   "cell_type": "code",
   "execution_count": 1,
   "metadata": {},
   "outputs": [],
   "source": [
    "from sys import getsizeof"
   ]
  },
  {
   "cell_type": "code",
   "execution_count": 2,
   "metadata": {},
   "outputs": [
    {
     "name": "stdout",
     "output_type": "stream",
     "text": [
      "Hello, world! 62\n"
     ]
    }
   ],
   "source": [
    "s = 'Hello, world!'\n",
    "print(f'{s} {getsizeof(s)}')"
   ]
  },
  {
   "cell_type": "code",
   "execution_count": 3,
   "metadata": {},
   "outputs": [
    {
     "name": "stdout",
     "output_type": "stream",
     "text": [
      "['H', 'e', 'l', 'l', 'o', ',', ' ', 'w', 'o', 'r', 'l', 'd', '!'] 160\n"
     ]
    }
   ],
   "source": [
    "s = list('Hello, world!')\n",
    "print(f'{s} {getsizeof(s)}')"
   ]
  },
  {
   "cell_type": "code",
   "execution_count": 4,
   "metadata": {},
   "outputs": [
    {
     "name": "stdout",
     "output_type": "stream",
     "text": [
      "('H', 'e', 'l', 'l', 'o', ',', ' ', 'w', 'o', 'r', 'l', 'd', '!') 144\n"
     ]
    }
   ],
   "source": [
    "s = tuple('Hello, world!')\n",
    "print(f'{s} {getsizeof(s)}')"
   ]
  },
  {
   "cell_type": "code",
   "execution_count": 5,
   "metadata": {},
   "outputs": [
    {
     "name": "stdout",
     "output_type": "stream",
     "text": [
      "00 H 50\n",
      "01 e 50\n",
      "02 l 50\n",
      "03 l 50\n",
      "04 o 50\n",
      "05 , 50\n",
      "06   50\n",
      "07 w 50\n",
      "08 o 50\n",
      "09 r 50\n",
      "10 l 50\n",
      "11 d 50\n",
      "12 ! 50\n"
     ]
    }
   ],
   "source": [
    "for i, c in enumerate(s):\n",
    "    print(f'{i:02} {c} {getsizeof(c)}')"
   ]
  }
 ],
 "metadata": {
  "kernelspec": {
   "display_name": "Python 3",
   "language": "python",
   "name": "python3"
  },
  "language_info": {
   "codemirror_mode": {
    "name": "ipython",
    "version": 3
   },
   "file_extension": ".py",
   "mimetype": "text/x-python",
   "name": "python",
   "nbconvert_exporter": "python",
   "pygments_lexer": "ipython3",
   "version": "3.8.5"
  }
 },
 "nbformat": 4,
 "nbformat_minor": 4
}
