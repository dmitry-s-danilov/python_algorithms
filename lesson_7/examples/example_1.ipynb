{
 "cells": [
  {
   "cell_type": "markdown",
   "metadata": {},
   "source": [
    "# Geekbrains. Алгоритмы и структуры данных на Python\n",
    "## Урок 7. Алгоритмы сортировки"
   ]
  },
  {
   "cell_type": "markdown",
   "metadata": {},
   "source": [
    "### Пример 1. Алгоритм сортировки пузырьком\n",
    "\n",
    "алгоритм              | сортировка пузырьком\n",
    ":---------------------|:--------------------:\n",
    "cложность             | $$O(n^2)$$\n",
    "устойчивость          | да\n",
    "тип                   | обменная\n",
    "дополнительная память | нет\n",
    "\n"
   ]
  },
  {
   "cell_type": "code",
   "execution_count": 1,
   "metadata": {},
   "outputs": [],
   "source": [
    "from random import randint, shuffle\n",
    "from timeit import timeit"
   ]
  },
  {
   "cell_type": "code",
   "execution_count": 2,
   "metadata": {},
   "outputs": [],
   "source": [
    "def func_1(u):\n",
    "    v = u.copy()\n",
    "    i = 1\n",
    "    while i < len(v):\n",
    "        j = 0\n",
    "        while j < len(v) - i:\n",
    "            if v[j] > v[j + 1]:\n",
    "                v[j], v[j + 1] = v[j + 1], v[j]\n",
    "            j += 1\n",
    "        i += 1\n",
    "    return v"
   ]
  },
  {
   "cell_type": "code",
   "execution_count": 3,
   "metadata": {},
   "outputs": [],
   "source": [
    "def func_2(u):\n",
    "    v = u.copy() \n",
    "    for i in range(1, len(v)):  \n",
    "        for j in range(len(v) - i):\n",
    "            if v[j] > v[j + 1]:\n",
    "                v[j], v[j + 1] = v[j + 1], v[j]\n",
    "    return v"
   ]
  },
  {
   "cell_type": "code",
   "execution_count": 4,
   "metadata": {},
   "outputs": [],
   "source": [
    "def func_3(u):\n",
    "    v = u.copy()\n",
    "    for i in range(1, len(v)):  \n",
    "        e = True\n",
    "        for j in range(len(v) - i):\n",
    "            if v[j] > v[j + 1]:\n",
    "                e = False\n",
    "                v[j], v[j + 1] = v[j + 1], v[j]\n",
    "        if e:\n",
    "            break\n",
    "    return v"
   ]
  },
  {
   "cell_type": "code",
   "execution_count": 5,
   "metadata": {},
   "outputs": [],
   "source": [
    "check_fields = ('sample', 'benchmark', 'reference', 'check')\n",
    "\n",
    "def func_check(u, g, h): \n",
    "    n = 10000 # timeit numbers\n",
    "\n",
    "    v = g(u)\n",
    "\n",
    "    w = dict()\n",
    "    for f in h:\n",
    "        s = f(u)== v\n",
    "        t = timeit('f(u)',\n",
    "                   number=n,\n",
    "                   globals=locals())\n",
    "        w[f.__name__] = (s, t)\n",
    "        \n",
    "    c = (u, v, g.__name__, w)\n",
    "    return c\n",
    "\n",
    "def check_string(c, k):\n",
    "    s = ''\n",
    "    \n",
    "    for _ in range(len(c) - 1):\n",
    "        s += f'{k[_]}: {c[_]}\\n'\n",
    "    \n",
    "    s += f'{k[-1]}:'\n",
    "    \n",
    "    for p, q in c[-1].items():\n",
    "        s += '\\n\\t{}: {} {}'.format(p, *q)\n",
    "    return s"
   ]
  },
  {
   "cell_type": "code",
   "execution_count": 6,
   "metadata": {},
   "outputs": [
    {
     "name": "stdout",
     "output_type": "stream",
     "text": [
      "0 [0, 1, 2, 3, 4, 5, 6, 7, 8, 9]\n",
      "1 [2, 4, 8, 1, 9, 5, 7, 3, 6, 0]\n",
      "2 [6, 0, 1, 8, 4, 8, 5, 2, 8, 4]\n"
     ]
    }
   ],
   "source": [
    "n = 10\n",
    "\n",
    "y = []\n",
    "\n",
    "x = [_ for _ in range(n)]\n",
    "y.append(x.copy())\n",
    "\n",
    "shuffle(x)\n",
    "y.append(x.copy())\n",
    "\n",
    "r = 0, n - 2\n",
    "x = [randint(*r) for _ in range(n)]\n",
    "y.append(x.copy())\n",
    "\n",
    "for _ in enumerate(y):\n",
    "    print('{} {}'.format(*_))"
   ]
  },
  {
   "cell_type": "code",
   "execution_count": 7,
   "metadata": {},
   "outputs": [
    {
     "name": "stdout",
     "output_type": "stream",
     "text": [
      "0\n",
      "sample: [0, 1, 2, 3, 4, 5, 6, 7, 8, 9]\n",
      "benchmark: [0, 1, 2, 3, 4, 5, 6, 7, 8, 9]\n",
      "reference: sorted\n",
      "check:\n",
      "\tsorted: True 0.007658375994651578\n",
      "\tfunc_1: True 0.15521610699943267\n",
      "\tfunc_2: True 0.12529170101333875\n",
      "\tfunc_3: True 0.027532063002581708\n",
      "\n",
      "1\n",
      "sample: [2, 4, 8, 1, 9, 5, 7, 3, 6, 0]\n",
      "benchmark: [0, 1, 2, 3, 4, 5, 6, 7, 8, 9]\n",
      "reference: sorted\n",
      "check:\n",
      "\tsorted: True 0.004560706001939252\n",
      "\tfunc_1: True 0.2248457009991398\n",
      "\tfunc_2: True 0.19303718701121397\n",
      "\tfunc_3: True 0.21845773799577728\n",
      "\n",
      "2\n",
      "sample: [6, 0, 1, 8, 4, 8, 5, 2, 8, 4]\n",
      "benchmark: [0, 1, 2, 4, 4, 5, 6, 8, 8, 8]\n",
      "reference: sorted\n",
      "check:\n",
      "\tsorted: True 0.0045836839999537915\n",
      "\tfunc_1: True 0.22930429900588933\n",
      "\tfunc_2: True 0.20116657299513463\n",
      "\tfunc_3: True 0.17874109599506482\n",
      "\n"
     ]
    }
   ],
   "source": [
    "funcs = (sorted, func_1, func_2, func_3)\n",
    "checks = [func_check(x, sorted, funcs)\n",
    "          for x in y]\n",
    "\n",
    "for index, check in enumerate(checks):\n",
    "    print(index,\n",
    "          check_string(check, check_fields),\n",
    "          sep='\\n', end='\\n\\n')"
   ]
  }
 ],
 "metadata": {
  "kernelspec": {
   "display_name": "Python 3",
   "language": "python",
   "name": "python3"
  },
  "language_info": {
   "codemirror_mode": {
    "name": "ipython",
    "version": 3
   },
   "file_extension": ".py",
   "mimetype": "text/x-python",
   "name": "python",
   "nbconvert_exporter": "python",
   "pygments_lexer": "ipython3",
   "version": "3.8.5"
  }
 },
 "nbformat": 4,
 "nbformat_minor": 4
}
