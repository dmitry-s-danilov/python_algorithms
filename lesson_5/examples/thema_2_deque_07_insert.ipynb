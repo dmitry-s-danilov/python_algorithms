{
 "cells": [
  {
   "cell_type": "code",
   "execution_count": 1,
   "metadata": {},
   "outputs": [],
   "source": [
    "from collections import deque"
   ]
  },
  {
   "cell_type": "code",
   "execution_count": 2,
   "metadata": {},
   "outputs": [
    {
     "name": "stdout",
     "output_type": "stream",
     "text": [
      "[1, 2, 3]: deque([1, 2, 3])\n"
     ]
    }
   ],
   "source": [
    "x = [1, 2, 3]\n",
    "y = deque(x)\n",
    "\n",
    "print(f'{x}: {y}')"
   ]
  },
  {
   "cell_type": "code",
   "execution_count": 3,
   "metadata": {},
   "outputs": [
    {
     "name": "stdout",
     "output_type": "stream",
     "text": [
      "start: deque(['start', 1, 2, 3])\n"
     ]
    }
   ],
   "source": [
    "i = 0\n",
    "x = 'start'\n",
    "y.insert(i, x)\n",
    "\n",
    "print(f'{x}: {y}')"
   ]
  },
  {
   "cell_type": "code",
   "execution_count": 4,
   "metadata": {},
   "outputs": [
    {
     "name": "stdout",
     "output_type": "stream",
     "text": [
      "stop: deque(['start', 1, 2, 3, 'stop'])\n"
     ]
    }
   ],
   "source": [
    "i = len(y)\n",
    "x = 'stop'\n",
    "y.insert(i, x)\n",
    "\n",
    "print(f'{x}: {y}')"
   ]
  },
  {
   "cell_type": "code",
   "execution_count": 5,
   "metadata": {},
   "outputs": [
    {
     "name": "stdout",
     "output_type": "stream",
     "text": [
      "before 2: deque(['start', 1, 'before 2', 2, 3, 'stop'])\n"
     ]
    }
   ],
   "source": [
    "z = 2\n",
    "i = y.index(z)\n",
    "x = f'before {z}'\n",
    "y.insert(i, x)\n",
    "\n",
    "print(f'{x}: {y}')"
   ]
  },
  {
   "cell_type": "code",
   "execution_count": 6,
   "metadata": {},
   "outputs": [
    {
     "name": "stdout",
     "output_type": "stream",
     "text": [
      "after 2: deque(['start', 1, 'before 2', 2, 'after 2', 3, 'stop'])\n"
     ]
    }
   ],
   "source": [
    "z = 2\n",
    "i = y.index(z) + 1\n",
    "x = f'after {z}'\n",
    "y.insert(i, x)\n",
    "\n",
    "print(f'{x}: {y}')"
   ]
  }
 ],
 "metadata": {
  "kernelspec": {
   "display_name": "Python 3",
   "language": "python",
   "name": "python3"
  },
  "language_info": {
   "codemirror_mode": {
    "name": "ipython",
    "version": 3
   },
   "file_extension": ".py",
   "mimetype": "text/x-python",
   "name": "python",
   "nbconvert_exporter": "python",
   "pygments_lexer": "ipython3",
   "version": "3.8.5"
  }
 },
 "nbformat": 4,
 "nbformat_minor": 4
}
