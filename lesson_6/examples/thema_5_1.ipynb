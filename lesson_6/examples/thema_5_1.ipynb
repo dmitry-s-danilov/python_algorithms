{
 "cells": [
  {
   "cell_type": "code",
   "execution_count": 12,
   "metadata": {},
   "outputs": [],
   "source": [
    "from sys import getsizeof\n",
    "from ctypes import string_at\n",
    "import struct\n",
    "# from struct import unpack"
   ]
  },
  {
   "cell_type": "code",
   "execution_count": 32,
   "metadata": {},
   "outputs": [
    {
     "name": "stdout",
     "output_type": "stream",
     "text": [
      "1\n",
      "type = <class 'int'>\n",
      "id = 139855317452960\n",
      "size = 28\n",
      "b'M\\x0c\\x00\\x00\\x00\\x00\\x00\\x00 \\x1e\\x82\\x9a2\\x7f\\x00\\x00\\x01\\x00\\x00\\x00\\x00\\x00\\x00\\x00\\x01\\x00\\x00\\x00'\n",
      "(3149, 0, 2592218656, 32562, 1, 0, 1)\n",
      "(3151, 0, 2592218656, 32562, 1, 0, 1)\n",
      "(3153, 0, -1702748640, 32562, 1, 0, 1)\n"
     ]
    }
   ],
   "source": [
    "x = 1\n",
    "\n",
    "print(x,\n",
    "      f'type = {x.__class__}',\n",
    "      f'id = {id(x)}',\n",
    "      f'size = {getsizeof(x)}',\n",
    "      string_at(id(x),\n",
    "                size=getsizeof(x)),\n",
    "      struct.unpack('IIIIIIi',\n",
    "                    string_at(id(x), size=getsizeof(x))),\n",
    "      struct.unpack('IIIIIII',\n",
    "                    string_at(id(x), size=getsizeof(x))),\n",
    "      struct.unpack('iiiiiii',\n",
    "                    string_at(id(x), size=getsizeof(x))),\n",
    "      sep='\\n')"
   ]
  }
 ],
 "metadata": {
  "kernelspec": {
   "display_name": "Python 3",
   "language": "python",
   "name": "python3"
  },
  "language_info": {
   "codemirror_mode": {
    "name": "ipython",
    "version": 3
   },
   "file_extension": ".py",
   "mimetype": "text/x-python",
   "name": "python",
   "nbconvert_exporter": "python",
   "pygments_lexer": "ipython3",
   "version": "3.8.5"
  }
 },
 "nbformat": 4,
 "nbformat_minor": 4
}
