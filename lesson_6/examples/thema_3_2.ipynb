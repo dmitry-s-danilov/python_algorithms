{
 "cells": [
  {
   "cell_type": "code",
   "execution_count": 1,
   "metadata": {},
   "outputs": [
    {
     "name": "stdout",
     "output_type": "stream",
     "text": [
      "create list: []\n",
      "append 1 to list: [1]\n",
      "extend [2] to list: [1, 2]\n",
      "extend [3, 4] to list: [1, 2, 3, 4]\n",
      "insert start to list: ['start', 1, 2, 3, 4]\n",
      "insert stop to list: ['start', 1, 2, 3, 4, 'stop']\n",
      "pop stop from list: ['start', 1, 2, 3, 4]\n",
      "pop start from list: [1, 2, 3, 4]\n",
      "remove 1 from list: [2, 3, 4]\n",
      "delete 2 from list: [3, 4]\n",
      "clear list: []\n"
     ]
    }
   ],
   "source": [
    "x = list()\n",
    "print(f'create list: {x}')\n",
    "\n",
    "y = 1\n",
    "x.append(y)\n",
    "print(f'append {y} to list: {x}')\n",
    "\n",
    "y = [2]\n",
    "x.extend(y)\n",
    "print(f'extend {y} to list: {x}')\n",
    "\n",
    "y = [3, 4]\n",
    "x.extend(y)\n",
    "print(f'extend {y} to list: {x}')\n",
    "\n",
    "i, y = 0, 'start'\n",
    "x.insert(i, y)\n",
    "print(f'insert {y} to list: {x}')\n",
    "\n",
    "i, y = len(x), 'stop'\n",
    "x.insert(i, y)\n",
    "print(f'insert {y} to list: {x}')\n",
    "\n",
    "y = x.pop()\n",
    "print(f'pop {y} from list: {x}')\n",
    "\n",
    "i = 0\n",
    "y = x.pop(i)\n",
    "print(f'pop {y} from list: {x}')\n",
    "\n",
    "i = 0\n",
    "y = x[i]\n",
    "x.remove(y)\n",
    "print(f'remove {y} from list: {x}')\n",
    "\n",
    "i = 0\n",
    "y = x[i]\n",
    "del x[i]\n",
    "print(f'delete {y} from list: {x}')\n",
    "\n",
    "x.clear()\n",
    "print(f'clear list: {x}')\n",
    "\n",
    "del x"
   ]
  }
 ],
 "metadata": {
  "kernelspec": {
   "display_name": "Python 3",
   "language": "python",
   "name": "python3"
  },
  "language_info": {
   "codemirror_mode": {
    "name": "ipython",
    "version": 3
   },
   "file_extension": ".py",
   "mimetype": "text/x-python",
   "name": "python",
   "nbconvert_exporter": "python",
   "pygments_lexer": "ipython3",
   "version": "3.8.5"
  }
 },
 "nbformat": 4,
 "nbformat_minor": 4
}
