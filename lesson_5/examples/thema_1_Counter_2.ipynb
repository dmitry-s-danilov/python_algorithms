{
 "cells": [
  {
   "cell_type": "code",
   "execution_count": 1,
   "metadata": {},
   "outputs": [],
   "source": [
    "from collections import Counter"
   ]
  },
  {
   "cell_type": "code",
   "execution_count": 2,
   "metadata": {},
   "outputs": [
    {
     "name": "stdout",
     "output_type": "stream",
     "text": [
      "<class 'str'>:\n",
      "abracadabra\n",
      "\n",
      "<class 'collections.Counter'>:\n",
      "Counter({'a': 5, 'b': 2, 'r': 2, 'c': 1, 'd': 1})\n",
      "\n",
      "<class 'dict'>:\n",
      "{'a': 5, 'b': 2, 'r': 2, 'c': 1, 'd': 1}\n"
     ]
    }
   ],
   "source": [
    "s = 'abracadabra'\n",
    "x = Counter(s)\n",
    "y = dict(x)\n",
    "\n",
    "print(f'{type(s)}:\\n{s}',\n",
    "      f'{type(x)}:\\n{x}',\n",
    "      f'{type(y)}:\\n{y}',\n",
    "      sep='\\n\\n')"
   ]
  },
  {
   "cell_type": "code",
   "execution_count": 3,
   "metadata": {},
   "outputs": [],
   "source": [
    "k = ['a', 'b', 'z']"
   ]
  },
  {
   "cell_type": "code",
   "execution_count": 4,
   "metadata": {},
   "outputs": [
    {
     "name": "stdout",
     "output_type": "stream",
     "text": [
      "a: 5\n",
      "b: 2\n",
      "z: 0\n"
     ]
    }
   ],
   "source": [
    "for _ in k:\n",
    "    print(f'{_}: {x[_]}')"
   ]
  },
  {
   "cell_type": "code",
   "execution_count": 5,
   "metadata": {},
   "outputs": [
    {
     "name": "stdout",
     "output_type": "stream",
     "text": [
      "a: 5\n",
      "b: 2\n",
      "z: None\n"
     ]
    }
   ],
   "source": [
    "for _ in k:\n",
    "    try:\n",
    "        v = y[_]\n",
    "    except KeyError:\n",
    "        v = None\n",
    "    print(f'{_}: {v}')"
   ]
  },
  {
   "cell_type": "code",
   "execution_count": 6,
   "metadata": {},
   "outputs": [],
   "source": [
    "k, v = 'z', 0"
   ]
  },
  {
   "cell_type": "code",
   "execution_count": 7,
   "metadata": {},
   "outputs": [
    {
     "name": "stdout",
     "output_type": "stream",
     "text": [
      "<class 'collections.Counter'>:\n",
      "Counter({'a': 5, 'b': 2, 'r': 2, 'c': 1, 'd': 1})\n",
      "z: 0\n",
      "Counter({'a': 5, 'b': 2, 'r': 2, 'c': 1, 'd': 1, 'z': 0})\n"
     ]
    }
   ],
   "source": [
    "print(f'{type(x)}:\\n{x}',\n",
    "      f'{k}: {v}',\n",
    "      sep='\\n')\n",
    "\n",
    "x[k] = v\n",
    "# x.update({k: v})\n",
    "\n",
    "print(x)"
   ]
  },
  {
   "cell_type": "code",
   "execution_count": 8,
   "metadata": {},
   "outputs": [
    {
     "name": "stdout",
     "output_type": "stream",
     "text": [
      "<class 'dict'>:\n",
      "{'a': 5, 'b': 2, 'r': 2, 'c': 1, 'd': 1}\n",
      "z: 0\n",
      "{'a': 5, 'b': 2, 'r': 2, 'c': 1, 'd': 1, 'z': 0}\n"
     ]
    }
   ],
   "source": [
    "print(f'{type(y)}:\\n{y}',\n",
    "      f'{k}: {v}',\n",
    "      sep='\\n')\n",
    "\n",
    "y[k] = v\n",
    "# y.update({k: v})\n",
    "\n",
    "print(y)"
   ]
  }
 ],
 "metadata": {
  "kernelspec": {
   "display_name": "Python 3",
   "language": "python",
   "name": "python3"
  },
  "language_info": {
   "codemirror_mode": {
    "name": "ipython",
    "version": 3
   },
   "file_extension": ".py",
   "mimetype": "text/x-python",
   "name": "python",
   "nbconvert_exporter": "python",
   "pygments_lexer": "ipython3",
   "version": "3.8.5"
  }
 },
 "nbformat": 4,
 "nbformat_minor": 4
}
