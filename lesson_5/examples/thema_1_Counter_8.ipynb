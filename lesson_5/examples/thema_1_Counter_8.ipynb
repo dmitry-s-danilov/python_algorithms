{
 "cells": [
  {
   "cell_type": "code",
   "execution_count": 1,
   "metadata": {},
   "outputs": [],
   "source": [
    "from collections import Counter"
   ]
  },
  {
   "cell_type": "code",
   "execution_count": 2,
   "metadata": {},
   "outputs": [
    {
     "name": "stdout",
     "output_type": "stream",
     "text": [
      "Counter({'a': 1, 'b': 1, 'c': 1, 'd': 1})\n",
      "Counter({'d': 2, 'c': 1, 'b': 0, 'a': -1})\n",
      "Counter({'c': 1, 'd': 1})\n",
      "Counter({'d': 2, 'a': 1, 'b': 1, 'c': 1})\n"
     ]
    }
   ],
   "source": [
    "x = Counter(a=1, b=1, c=1, d=1)\n",
    "y = Counter(a=-1, b=0, c=1, d=2)\n",
    "\n",
    "print(x, y,\n",
    "      x & y, x | y,\n",
    "      sep='\\n')"
   ]
  }
 ],
 "metadata": {
  "kernelspec": {
   "display_name": "Python 3",
   "language": "python",
   "name": "python3"
  },
  "language_info": {
   "codemirror_mode": {
    "name": "ipython",
    "version": 3
   },
   "file_extension": ".py",
   "mimetype": "text/x-python",
   "name": "python",
   "nbconvert_exporter": "python",
   "pygments_lexer": "ipython3",
   "version": "3.8.5"
  }
 },
 "nbformat": 4,
 "nbformat_minor": 4
}
