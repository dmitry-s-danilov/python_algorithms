{
 "cells": [
  {
   "cell_type": "code",
   "execution_count": 1,
   "metadata": {},
   "outputs": [],
   "source": [
    "from sys import getsizeof"
   ]
  },
  {
   "cell_type": "code",
   "execution_count": 2,
   "metadata": {},
   "outputs": [
    {
     "name": "stdout",
     "output_type": "stream",
     "text": [
      "00 28 1\n",
      "01 28 2\n",
      "02 28 4\n",
      "03 28 8\n",
      "04 28 16\n",
      "05 28 32\n",
      "06 28 64\n",
      "07 28 128\n",
      "08 28 256\n",
      "09 28 512\n",
      "10 28 1024\n",
      "11 28 2048\n",
      "12 28 4096\n",
      "13 28 8192\n",
      "14 28 16384\n",
      "15 28 32768\n",
      "16 28 65536\n",
      "17 28 131072\n",
      "18 28 262144\n",
      "19 28 524288\n",
      "20 28 1048576\n"
     ]
    }
   ],
   "source": [
    "b = 2\n",
    "r = 0, 20 + 1\n",
    "x = [b**_ for _ in range(*r)]\n",
    "\n",
    "for i, u in enumerate(x):\n",
    "    print(f'{i:02} {getsizeof(u)} {u}')"
   ]
  },
  {
   "cell_type": "code",
   "execution_count": 3,
   "metadata": {},
   "outputs": [
    {
     "name": "stdout",
     "output_type": "stream",
     "text": [
      "00 24 1.0\n",
      "01 24 2.0\n",
      "02 24 4.0\n",
      "03 24 8.0\n",
      "04 24 16.0\n",
      "05 24 32.0\n",
      "06 24 64.0\n",
      "07 24 128.0\n",
      "08 24 256.0\n",
      "09 24 512.0\n",
      "10 24 1024.0\n",
      "11 24 2048.0\n",
      "12 24 4096.0\n",
      "13 24 8192.0\n",
      "14 24 16384.0\n",
      "15 24 32768.0\n",
      "16 24 65536.0\n",
      "17 24 131072.0\n",
      "18 24 262144.0\n",
      "19 24 524288.0\n",
      "20 24 1048576.0\n"
     ]
    }
   ],
   "source": [
    "b = 2.\n",
    "r = 0, 20 + 1\n",
    "x = [b**_ for _ in range(*r)]\n",
    "\n",
    "for i, u in enumerate(x):\n",
    "    print(f'{i:02} {getsizeof(u)} {u}')"
   ]
  },
  {
   "cell_type": "code",
   "execution_count": 4,
   "metadata": {},
   "outputs": [
    {
     "name": "stdout",
     "output_type": "stream",
     "text": [
      "00 28 1\n",
      "01 28 10\n",
      "02 28 100\n",
      "03 28 1000\n",
      "04 28 10000\n",
      "05 28 100000\n",
      "06 28 1000000\n",
      "07 28 10000000\n",
      "08 28 100000000\n",
      "09 28 1000000000\n",
      "10 32 10000000000\n",
      "11 32 100000000000\n",
      "12 32 1000000000000\n",
      "13 32 10000000000000\n",
      "14 32 100000000000000\n",
      "15 32 1000000000000000\n",
      "16 32 10000000000000000\n",
      "17 32 100000000000000000\n",
      "18 32 1000000000000000000\n",
      "19 36 10000000000000000000\n",
      "20 36 100000000000000000000\n"
     ]
    }
   ],
   "source": [
    "b = 10\n",
    "r = 0, 20 + 1\n",
    "x = [b**_ for _ in range(*r)]\n",
    "\n",
    "for i, u in enumerate(x):\n",
    "    print(f'{i:02} {getsizeof(u)} {u}')"
   ]
  },
  {
   "cell_type": "code",
   "execution_count": 5,
   "metadata": {},
   "outputs": [
    {
     "name": "stdout",
     "output_type": "stream",
     "text": [
      "00 24 1.0\n",
      "01 24 10.0\n",
      "02 24 100.0\n",
      "03 24 1000.0\n",
      "04 24 10000.0\n",
      "05 24 100000.0\n",
      "06 24 1000000.0\n",
      "07 24 10000000.0\n",
      "08 24 100000000.0\n",
      "09 24 1000000000.0\n",
      "10 24 10000000000.0\n",
      "11 24 100000000000.0\n",
      "12 24 1000000000000.0\n",
      "13 24 10000000000000.0\n",
      "14 24 100000000000000.0\n",
      "15 24 1000000000000000.0\n",
      "16 24 1e+16\n",
      "17 24 1e+17\n",
      "18 24 1e+18\n",
      "19 24 1e+19\n",
      "20 24 1e+20\n"
     ]
    }
   ],
   "source": [
    "b = 10.\n",
    "r = 0, 20 + 1\n",
    "x = [b**_ for _ in range(*r)]\n",
    "\n",
    "for i, u in enumerate(x):\n",
    "    print(f'{i:02} {getsizeof(u)} {u}')"
   ]
  }
 ],
 "metadata": {
  "kernelspec": {
   "display_name": "Python 3",
   "language": "python",
   "name": "python3"
  },
  "language_info": {
   "codemirror_mode": {
    "name": "ipython",
    "version": 3
   },
   "file_extension": ".py",
   "mimetype": "text/x-python",
   "name": "python",
   "nbconvert_exporter": "python",
   "pygments_lexer": "ipython3",
   "version": "3.8.5"
  }
 },
 "nbformat": 4,
 "nbformat_minor": 4
}
