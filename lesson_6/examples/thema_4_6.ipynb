{
 "cells": [
  {
   "cell_type": "code",
   "execution_count": 1,
   "metadata": {},
   "outputs": [],
   "source": [
    "from sys import getsizeof"
   ]
  },
  {
   "cell_type": "code",
   "execution_count": 2,
   "metadata": {},
   "outputs": [],
   "source": [
    "def show_size(x, k=0):\n",
    "    print(k * '\\t',\n",
    "          f'type = {x.__class__}; ',\n",
    "          f'size = {getsizeof(x)}; ',\n",
    "          f'object = {x}',\n",
    "          sep='')\n",
    "    \n",
    "    if hasattr(x, '__iter__'):\n",
    "        if hasattr(x, 'items'):\n",
    "            for y in x.items():\n",
    "                show_size(y, k + 1)\n",
    "        elif not isinstance(x, str):\n",
    "            for y in x:\n",
    "                show_size(y, k + 1)"
   ]
  },
  {
   "cell_type": "code",
   "execution_count": 3,
   "metadata": {},
   "outputs": [
    {
     "name": "stdout",
     "output_type": "stream",
     "text": [
      "type = <class 'range'>; size = 48; object = range(0, 10)\n",
      "\ttype = <class 'int'>; size = 24; object = 0\n",
      "\ttype = <class 'int'>; size = 28; object = 1\n",
      "\ttype = <class 'int'>; size = 28; object = 2\n",
      "\ttype = <class 'int'>; size = 28; object = 3\n",
      "\ttype = <class 'int'>; size = 28; object = 4\n",
      "\ttype = <class 'int'>; size = 28; object = 5\n",
      "\ttype = <class 'int'>; size = 28; object = 6\n",
      "\ttype = <class 'int'>; size = 28; object = 7\n",
      "\ttype = <class 'int'>; size = 28; object = 8\n",
      "\ttype = <class 'int'>; size = 28; object = 9\n"
     ]
    }
   ],
   "source": [
    "a = range(10)\n",
    "show_size(a)"
   ]
  },
  {
   "cell_type": "code",
   "execution_count": 4,
   "metadata": {},
   "outputs": [
    {
     "name": "stdout",
     "output_type": "stream",
     "text": [
      "type = <class 'list'>; size = 136; object = [0, 1, 2, 3, 4, 5, 6, 7, 8, 9]\n",
      "\ttype = <class 'int'>; size = 24; object = 0\n",
      "\ttype = <class 'int'>; size = 28; object = 1\n",
      "\ttype = <class 'int'>; size = 28; object = 2\n",
      "\ttype = <class 'int'>; size = 28; object = 3\n",
      "\ttype = <class 'int'>; size = 28; object = 4\n",
      "\ttype = <class 'int'>; size = 28; object = 5\n",
      "\ttype = <class 'int'>; size = 28; object = 6\n",
      "\ttype = <class 'int'>; size = 28; object = 7\n",
      "\ttype = <class 'int'>; size = 28; object = 8\n",
      "\ttype = <class 'int'>; size = 28; object = 9\n"
     ]
    }
   ],
   "source": [
    "a = list(a)\n",
    "show_size(a)"
   ]
  },
  {
   "cell_type": "code",
   "execution_count": 5,
   "metadata": {},
   "outputs": [
    {
     "name": "stdout",
     "output_type": "stream",
     "text": [
      "type = <class 'tuple'>; size = 120; object = (0, 1, 2, 3, 4, 5, 6, 7, 8, 9)\n",
      "\ttype = <class 'int'>; size = 24; object = 0\n",
      "\ttype = <class 'int'>; size = 28; object = 1\n",
      "\ttype = <class 'int'>; size = 28; object = 2\n",
      "\ttype = <class 'int'>; size = 28; object = 3\n",
      "\ttype = <class 'int'>; size = 28; object = 4\n",
      "\ttype = <class 'int'>; size = 28; object = 5\n",
      "\ttype = <class 'int'>; size = 28; object = 6\n",
      "\ttype = <class 'int'>; size = 28; object = 7\n",
      "\ttype = <class 'int'>; size = 28; object = 8\n",
      "\ttype = <class 'int'>; size = 28; object = 9\n"
     ]
    }
   ],
   "source": [
    "a = tuple(a)\n",
    "show_size(a)"
   ]
  },
  {
   "cell_type": "code",
   "execution_count": 6,
   "metadata": {},
   "outputs": [
    {
     "name": "stdout",
     "output_type": "stream",
     "text": [
      "type = <class 'set'>; size = 728; object = {0, 1, 2, 3, 4, 5, 6, 7, 8, 9}\n",
      "\ttype = <class 'int'>; size = 24; object = 0\n",
      "\ttype = <class 'int'>; size = 28; object = 1\n",
      "\ttype = <class 'int'>; size = 28; object = 2\n",
      "\ttype = <class 'int'>; size = 28; object = 3\n",
      "\ttype = <class 'int'>; size = 28; object = 4\n",
      "\ttype = <class 'int'>; size = 28; object = 5\n",
      "\ttype = <class 'int'>; size = 28; object = 6\n",
      "\ttype = <class 'int'>; size = 28; object = 7\n",
      "\ttype = <class 'int'>; size = 28; object = 8\n",
      "\ttype = <class 'int'>; size = 28; object = 9\n"
     ]
    }
   ],
   "source": [
    "a = set(a)\n",
    "show_size(a)"
   ]
  },
  {
   "cell_type": "code",
   "execution_count": 7,
   "metadata": {},
   "outputs": [
    {
     "name": "stdout",
     "output_type": "stream",
     "text": [
      "type = <class 'dict'>; size = 360; object = {'0': 0, '1': 1, '2': 2, '3': 3, '4': 4, '5': 5, '6': 6, '7': 7, '8': 8, '9': 9}\n",
      "\ttype = <class 'tuple'>; size = 56; object = ('0', 0)\n",
      "\t\ttype = <class 'str'>; size = 50; object = 0\n",
      "\t\ttype = <class 'int'>; size = 24; object = 0\n",
      "\ttype = <class 'tuple'>; size = 56; object = ('1', 1)\n",
      "\t\ttype = <class 'str'>; size = 50; object = 1\n",
      "\t\ttype = <class 'int'>; size = 28; object = 1\n",
      "\ttype = <class 'tuple'>; size = 56; object = ('2', 2)\n",
      "\t\ttype = <class 'str'>; size = 50; object = 2\n",
      "\t\ttype = <class 'int'>; size = 28; object = 2\n",
      "\ttype = <class 'tuple'>; size = 56; object = ('3', 3)\n",
      "\t\ttype = <class 'str'>; size = 50; object = 3\n",
      "\t\ttype = <class 'int'>; size = 28; object = 3\n",
      "\ttype = <class 'tuple'>; size = 56; object = ('4', 4)\n",
      "\t\ttype = <class 'str'>; size = 50; object = 4\n",
      "\t\ttype = <class 'int'>; size = 28; object = 4\n",
      "\ttype = <class 'tuple'>; size = 56; object = ('5', 5)\n",
      "\t\ttype = <class 'str'>; size = 50; object = 5\n",
      "\t\ttype = <class 'int'>; size = 28; object = 5\n",
      "\ttype = <class 'tuple'>; size = 56; object = ('6', 6)\n",
      "\t\ttype = <class 'str'>; size = 50; object = 6\n",
      "\t\ttype = <class 'int'>; size = 28; object = 6\n",
      "\ttype = <class 'tuple'>; size = 56; object = ('7', 7)\n",
      "\t\ttype = <class 'str'>; size = 50; object = 7\n",
      "\t\ttype = <class 'int'>; size = 28; object = 7\n",
      "\ttype = <class 'tuple'>; size = 56; object = ('8', 8)\n",
      "\t\ttype = <class 'str'>; size = 50; object = 8\n",
      "\t\ttype = <class 'int'>; size = 28; object = 8\n",
      "\ttype = <class 'tuple'>; size = 56; object = ('9', 9)\n",
      "\t\ttype = <class 'str'>; size = 50; object = 9\n",
      "\t\ttype = <class 'int'>; size = 28; object = 9\n"
     ]
    }
   ],
   "source": [
    "a = {str(_): _ for _ in a}\n",
    "show_size(a)"
   ]
  }
 ],
 "metadata": {
  "kernelspec": {
   "display_name": "Python 3",
   "language": "python",
   "name": "python3"
  },
  "language_info": {
   "codemirror_mode": {
    "name": "ipython",
    "version": 3
   },
   "file_extension": ".py",
   "mimetype": "text/x-python",
   "name": "python",
   "nbconvert_exporter": "python",
   "pygments_lexer": "ipython3",
   "version": "3.8.5"
  }
 },
 "nbformat": 4,
 "nbformat_minor": 4
}
