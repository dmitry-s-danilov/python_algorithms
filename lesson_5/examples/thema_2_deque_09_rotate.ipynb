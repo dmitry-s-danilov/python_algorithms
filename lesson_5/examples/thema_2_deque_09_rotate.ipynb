{
 "cells": [
  {
   "cell_type": "code",
   "execution_count": 1,
   "metadata": {},
   "outputs": [],
   "source": [
    "from collections import deque"
   ]
  },
  {
   "cell_type": "code",
   "execution_count": 2,
   "metadata": {},
   "outputs": [
    {
     "name": "stdout",
     "output_type": "stream",
     "text": [
      "deque([1, 2, 3])\n",
      "0: deque([1, 2, 3])\n",
      "1: deque([3, 1, 2])\n",
      "2: deque([1, 2, 3])\n",
      "3: deque([1, 2, 3])\n",
      "4: deque([3, 1, 2])\n",
      "-1: deque([1, 2, 3])\n",
      "-2: deque([3, 1, 2])\n",
      "-3: deque([3, 1, 2])\n",
      "-4: deque([1, 2, 3])\n"
     ]
    }
   ],
   "source": [
    "x = [1, 2, 3]\n",
    "y = deque(x)\n",
    "print(y)\n",
    "\n",
    "i = 0\n",
    "y.rotate(i)\n",
    "print(f'{i}: {y}')\n",
    "\n",
    "i = 1\n",
    "y.rotate(i)\n",
    "# y.rotate()\n",
    "print(f'{i}: {y}')\n",
    "\n",
    "i = 2\n",
    "y.rotate(i)\n",
    "print(f'{i}: {y}')\n",
    "\n",
    "i = 3\n",
    "y.rotate(i)\n",
    "print(f'{i}: {y}')\n",
    "\n",
    "i = 4\n",
    "y.rotate(i)\n",
    "print(f'{i}: {y}')\n",
    "\n",
    "i = -1\n",
    "y.rotate(i)\n",
    "print(f'{i}: {y}')\n",
    "\n",
    "i = -2\n",
    "y.rotate(i)\n",
    "print(f'{i}: {y}')\n",
    "\n",
    "i = -3\n",
    "y.rotate(i)\n",
    "print(f'{i}: {y}')\n",
    "\n",
    "i = -4\n",
    "y.rotate(i)\n",
    "print(f'{i}: {y}')"
   ]
  }
 ],
 "metadata": {
  "kernelspec": {
   "display_name": "Python 3",
   "language": "python",
   "name": "python3"
  },
  "language_info": {
   "codemirror_mode": {
    "name": "ipython",
    "version": 3
   },
   "file_extension": ".py",
   "mimetype": "text/x-python",
   "name": "python",
   "nbconvert_exporter": "python",
   "pygments_lexer": "ipython3",
   "version": "3.8.5"
  }
 },
 "nbformat": 4,
 "nbformat_minor": 4
}
