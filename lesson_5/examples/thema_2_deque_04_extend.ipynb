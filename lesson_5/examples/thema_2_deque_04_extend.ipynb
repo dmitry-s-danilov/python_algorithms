{
 "cells": [
  {
   "cell_type": "code",
   "execution_count": 1,
   "metadata": {},
   "outputs": [],
   "source": [
    "from collections import deque"
   ]
  },
  {
   "cell_type": "code",
   "execution_count": 2,
   "metadata": {},
   "outputs": [
    {
     "name": "stdout",
     "output_type": "stream",
     "text": [
      "[1, 2, 3, 4]: deque([2, 3, 4], maxlen=3)\n"
     ]
    }
   ],
   "source": [
    "n = 3\n",
    "x = [1, 2, 3, 4] \n",
    "y = deque(x, maxlen=n)\n",
    "\n",
    "print(f'{x}: {y}')"
   ]
  },
  {
   "cell_type": "code",
   "execution_count": 3,
   "metadata": {},
   "outputs": [
    {
     "name": "stdout",
     "output_type": "stream",
     "text": [
      "[5]: deque([3, 4, 5], maxlen=3)\n"
     ]
    }
   ],
   "source": [
    "x = [5]\n",
    "y.extend(x)\n",
    "\n",
    "print(f'{x}: {y}')"
   ]
  },
  {
   "cell_type": "code",
   "execution_count": 4,
   "metadata": {},
   "outputs": [
    {
     "name": "stdout",
     "output_type": "stream",
     "text": [
      "[6]: deque([6, 3, 4], maxlen=3)\n"
     ]
    }
   ],
   "source": [
    "x = [6]\n",
    "y.extendleft(x)\n",
    "\n",
    "print(f'{x}: {y}')"
   ]
  },
  {
   "cell_type": "code",
   "execution_count": 5,
   "metadata": {},
   "outputs": [
    {
     "name": "stdout",
     "output_type": "stream",
     "text": [
      "[7, 8]: deque([4, 7, 8], maxlen=3)\n"
     ]
    }
   ],
   "source": [
    "x = [7, 8]\n",
    "y.extend(x)\n",
    "\n",
    "print(f'{x}: {y}')"
   ]
  },
  {
   "cell_type": "code",
   "execution_count": 6,
   "metadata": {},
   "outputs": [
    {
     "name": "stdout",
     "output_type": "stream",
     "text": [
      "[9, 10]: deque([10, 9, 4], maxlen=3)\n"
     ]
    }
   ],
   "source": [
    "x = [9, 10]\n",
    "y.extendleft(x)\n",
    "\n",
    "print(f'{x}: {y}')"
   ]
  },
  {
   "cell_type": "code",
   "execution_count": 7,
   "metadata": {},
   "outputs": [
    {
     "name": "stdout",
     "output_type": "stream",
     "text": [
      "[11, 12, 13]: deque([11, 12, 13], maxlen=3)\n"
     ]
    }
   ],
   "source": [
    "x = [11, 12, 13]\n",
    "y.extend(x)\n",
    "\n",
    "print(f'{x}: {y}')"
   ]
  },
  {
   "cell_type": "code",
   "execution_count": 8,
   "metadata": {},
   "outputs": [
    {
     "name": "stdout",
     "output_type": "stream",
     "text": [
      "[14, 15, 16]: deque([16, 15, 14], maxlen=3)\n"
     ]
    }
   ],
   "source": [
    "x = [14, 15, 16]\n",
    "y.extendleft(x)\n",
    "\n",
    "print(f'{x}: {y}')"
   ]
  },
  {
   "cell_type": "code",
   "execution_count": 9,
   "metadata": {},
   "outputs": [
    {
     "name": "stdout",
     "output_type": "stream",
     "text": [
      "[17, 18, 19, 20]: deque([18, 19, 20], maxlen=3)\n"
     ]
    }
   ],
   "source": [
    "x = [17, 18, 19, 20]\n",
    "y.extend(x)\n",
    "\n",
    "print(f'{x}: {y}')"
   ]
  },
  {
   "cell_type": "code",
   "execution_count": 10,
   "metadata": {},
   "outputs": [
    {
     "name": "stdout",
     "output_type": "stream",
     "text": [
      "[21, 22, 23, 24]: deque([24, 23, 22], maxlen=3)\n"
     ]
    }
   ],
   "source": [
    "x = [21, 22, 23, 24]\n",
    "y.extendleft(x)\n",
    "\n",
    "print(f'{x}: {y}')"
   ]
  }
 ],
 "metadata": {
  "kernelspec": {
   "display_name": "Python 3",
   "language": "python",
   "name": "python3"
  },
  "language_info": {
   "codemirror_mode": {
    "name": "ipython",
    "version": 3
   },
   "file_extension": ".py",
   "mimetype": "text/x-python",
   "name": "python",
   "nbconvert_exporter": "python",
   "pygments_lexer": "ipython3",
   "version": "3.8.5"
  }
 },
 "nbformat": 4,
 "nbformat_minor": 4
}
