{
 "cells": [
  {
   "cell_type": "code",
   "execution_count": 1,
   "metadata": {},
   "outputs": [],
   "source": [
    "from collections import namedtuple"
   ]
  },
  {
   "cell_type": "code",
   "execution_count": 2,
   "metadata": {},
   "outputs": [],
   "source": [
    "Point_prop = ['x', 'y', 'z']\n",
    "Point = namedtuple('Point', Point_prop)"
   ]
  },
  {
   "cell_type": "code",
   "execution_count": 3,
   "metadata": {},
   "outputs": [
    {
     "name": "stdout",
     "output_type": "stream",
     "text": [
      "0: Point(x=0, y=0, z=0) <class '__main__.Point'>\n",
      "1: Point(x=1, y=0, z=0) <class '__main__.Point'>\n",
      "2: Point(x=0, y=1, z=0) <class '__main__.Point'>\n",
      "3: Point(x=0, y=0, z=1) <class '__main__.Point'>\n",
      "4: Point(x=2, y=0, z=0) <class '__main__.Point'>\n",
      "5: Point(x=0, y=2, z=0) <class '__main__.Point'>\n",
      "\n",
      "0: (0, 0, 0)\n",
      "1: (1, 0, 0)\n",
      "2: (0, 1, 0)\n",
      "3: (0, 0, 1)\n",
      "4: (2, 0, 0)\n",
      "5: (0, 2, 0)\n"
     ]
    }
   ],
   "source": [
    "points = [Point(0, 0, 0),\n",
    "          Point(x=1, y=0, z=0),\n",
    "          Point(y=1, z=0, x=0),\n",
    "          Point(z=1, x=0, y=0),\n",
    "          Point(2, y=0, z=0),\n",
    "          Point(0, z=0, y=2)]\n",
    "\n",
    "for index, point in enumerate(points):\n",
    "    print(f'{index}: {point} {point.__class__}')\n",
    "print()\n",
    "\n",
    "for index, point in enumerate(points):\n",
    "    print(f'{index}: ({point.x}, {point.y}, {point.z})')"
   ]
  },
  {
   "cell_type": "code",
   "execution_count": 4,
   "metadata": {},
   "outputs": [
    {
     "name": "stdout",
     "output_type": "stream",
     "text": [
      "0: {'x': 1, 'y': 0, 'z': 0} <class 'dict'>\n",
      "1: {'y': 1, 'z': 0, 'x': 0} <class 'dict'>\n",
      "2: {'z': 1, 'x': 0, 'y': 0} <class 'dict'>\n",
      "\n",
      "0: Point(x=1, y=0, z=0) <class '__main__.Point'>\n",
      "1: Point(x=0, y=1, z=0) <class '__main__.Point'>\n",
      "2: Point(x=0, y=0, z=1) <class '__main__.Point'>\n",
      "\n",
      "0: (1, 0, 0)\n",
      "1: (0, 1, 0)\n",
      "2: (0, 0, 1)\n"
     ]
    }
   ],
   "source": [
    "points = [{'x': 1, 'y': 0, 'z': 0},\n",
    "          {'y': 1, 'z': 0, 'x': 0},\n",
    "          {'z': 1, 'x': 0, 'y': 0}]\n",
    "\n",
    "for index, point in enumerate(points):\n",
    "    print(f'{index}: {point} {point.__class__}')\n",
    "print()\n",
    "\n",
    "points = [Point(**point) for point in points]\n",
    "\n",
    "for index, point in enumerate(points):\n",
    "    print(f'{index}: {point} {point.__class__}')\n",
    "print()\n",
    "\n",
    "for index, point in enumerate(points):\n",
    "    print(f'{index}: ({point.x}, {point.y}, {point.z})')"
   ]
  },
  {
   "cell_type": "markdown",
   "metadata": {},
   "source": [
    "#### _fields method"
   ]
  },
  {
   "cell_type": "code",
   "execution_count": 5,
   "metadata": {},
   "outputs": [
    {
     "name": "stdout",
     "output_type": "stream",
     "text": [
      "<class '__main__.Point'>\n",
      "type: <class 'type'>\n",
      "fields: ('x', 'y', 'z')\n",
      "\n",
      "Point(x=0, y=0, z=0)\n",
      "type: <class '__main__.Point'>\n",
      "fields: ('x', 'y', 'z')\n"
     ]
    }
   ],
   "source": [
    "print(Point,\n",
    "      f'type: {Point.__class__}',\n",
    "      f'fields: {Point._fields}',\n",
    "      sep='\\n', end='\\n\\n')\n",
    "\n",
    "point = Point(x=0, y=0, z=0)\n",
    "\n",
    "print(point,\n",
    "      f'type: {point.__class__}',\n",
    "      f'fields: {point._fields}',\n",
    "      sep='\\n')"
   ]
  },
  {
   "cell_type": "markdown",
   "metadata": {},
   "source": [
    "#### _replace method\n",
    "Return a new Point object\n",
    "replacing specified fields with new values"
   ]
  },
  {
   "cell_type": "code",
   "execution_count": 6,
   "metadata": {},
   "outputs": [
    {
     "name": "stdout",
     "output_type": "stream",
     "text": [
      "Point(x=0, y=0, z=0) <class '__main__.Point'>\n",
      "Point(x=1, y=0, z=0) <class '__main__.Point'>\n",
      "Point(x=1, y=1, z=1) <class '__main__.Point'>\n",
      "Point(x=0, y=0, z=0) <class '__main__.Point'>\n"
     ]
    }
   ],
   "source": [
    "point = Point(x=0, y=0, z=0)\n",
    "print(point, point.__class__)\n",
    "\n",
    "point = point._replace(x=1)\n",
    "print(point, point.__class__)\n",
    "\n",
    "point = point._replace(y=1, z=1)\n",
    "print(point, point.__class__)\n",
    "\n",
    "point = point._replace(x=0, y=0, z=0)\n",
    "print(point, point.__class__)"
   ]
  },
  {
   "cell_type": "markdown",
   "metadata": {},
   "source": [
    "#### _make method\n",
    "Make a new Point object from a sequence or iterable"
   ]
  },
  {
   "cell_type": "code",
   "execution_count": 7,
   "metadata": {},
   "outputs": [
    {
     "name": "stdout",
     "output_type": "stream",
     "text": [
      "0: (1, 0, 0) <class 'tuple'>\n",
      "1: (0, 1, 0) <class 'tuple'>\n",
      "2: (0, 0, 1) <class 'tuple'>\n",
      "\n",
      "0: Point(x=1, y=0, z=0) <class '__main__.Point'>\n",
      "1: Point(x=0, y=1, z=0) <class '__main__.Point'>\n",
      "2: Point(x=0, y=0, z=1) <class '__main__.Point'>\n",
      "\n",
      "0: (1, 0, 0)\n",
      "1: (0, 1, 0)\n",
      "2: (0, 0, 1)\n"
     ]
    }
   ],
   "source": [
    "points = [(1, 0, 0),\n",
    "          (0, 1, 0),\n",
    "          (0, 0, 1)]\n",
    "\n",
    "for index, point in enumerate(points):\n",
    "    print(f'{index}: {point} {point.__class__}')\n",
    "print()\n",
    "\n",
    "points = [Point._make(point) for point in points]\n",
    "\n",
    "for index, point in enumerate(points):\n",
    "    print(f'{index}: {point} {point.__class__}')\n",
    "print()\n",
    "\n",
    "for index, point in enumerate(points):\n",
    "    print(f'{index}: ({point.x}, {point.y}, {point.z})')"
   ]
  },
  {
   "cell_type": "markdown",
   "metadata": {},
   "source": [
    "#### _asdict method\n",
    "Return a new dict which maps field names to their values."
   ]
  },
  {
   "cell_type": "code",
   "execution_count": 8,
   "metadata": {},
   "outputs": [
    {
     "name": "stdout",
     "output_type": "stream",
     "text": [
      "0: Point(x=1, y=0, z=0) <class '__main__.Point'>\n",
      "1: Point(x=0, y=1, z=0) <class '__main__.Point'>\n",
      "2: Point(x=0, y=0, z=1) <class '__main__.Point'>\n",
      "\n",
      "0: {'x': 1, 'y': 0, 'z': 0} <class 'dict'>\n",
      "1: {'x': 0, 'y': 1, 'z': 0} <class 'dict'>\n",
      "2: {'x': 0, 'y': 0, 'z': 1} <class 'dict'>\n",
      "\n",
      "0: (1, 0, 0)\n",
      "1: (0, 1, 0)\n",
      "2: (0, 0, 1)\n"
     ]
    }
   ],
   "source": [
    "points = [Point(x=1, y=0, z=0),\n",
    "          Point(y=1, z=0, x=0),\n",
    "          Point(z=1, x=0, y=0)]\n",
    "\n",
    "for index, point in enumerate(points):\n",
    "    print(f'{index}: {point} {point.__class__}')\n",
    "print()\n",
    "\n",
    "points = [Point._asdict(point) for point in points]\n",
    "\n",
    "for index, point in enumerate(points):\n",
    "    print(f'{index}: {point} {point.__class__}')\n",
    "print()\n",
    "\n",
    "for index, point in enumerate(points):\n",
    "    print(f\"{index}: ({point['x']}, {point['y']}, {point['z']})\")"
   ]
  }
 ],
 "metadata": {
  "kernelspec": {
   "display_name": "Python 3",
   "language": "python",
   "name": "python3"
  },
  "language_info": {
   "codemirror_mode": {
    "name": "ipython",
    "version": 3
   },
   "file_extension": ".py",
   "mimetype": "text/x-python",
   "name": "python",
   "nbconvert_exporter": "python",
   "pygments_lexer": "ipython3",
   "version": "3.8.5"
  }
 },
 "nbformat": 4,
 "nbformat_minor": 4
}
