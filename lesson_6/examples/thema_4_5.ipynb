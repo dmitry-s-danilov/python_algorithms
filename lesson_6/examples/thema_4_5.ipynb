{
 "cells": [
  {
   "cell_type": "code",
   "execution_count": 1,
   "metadata": {},
   "outputs": [],
   "source": [
    "from sys import getsizeof"
   ]
  },
  {
   "cell_type": "code",
   "execution_count": 2,
   "metadata": {},
   "outputs": [],
   "source": [
    "def show_size(x, l=0):\n",
    "    print(l * '\\t',\n",
    "          f'type = {x.__class__}; ',\n",
    "          f'size = {getsizeof(x)}; ',\n",
    "          f'object = {x}',\n",
    "          sep='')\n",
    "    \n",
    "    if hasattr(x, '__iter__'):\n",
    "        if hasattr(x, 'item'):\n",
    "            for y in x.items():\n",
    "                show_size(y, l + 1)\n",
    "        elif not isinstance(x, str):\n",
    "            for y in x:\n",
    "                show_size(y, l + 1)"
   ]
  },
  {
   "cell_type": "code",
   "execution_count": 3,
   "metadata": {},
   "outputs": [
    {
     "name": "stdout",
     "output_type": "stream",
     "text": [
      "type = <class 'str'>; size = 50; object = 1\n"
     ]
    }
   ],
   "source": [
    "a = '1'\n",
    "show_size(a)"
   ]
  },
  {
   "cell_type": "code",
   "execution_count": 4,
   "metadata": {},
   "outputs": [
    {
     "name": "stdout",
     "output_type": "stream",
     "text": [
      "type = <class 'str'>; size = 52; object = 123\n"
     ]
    }
   ],
   "source": [
    "a = '123'\n",
    "show_size(a)"
   ]
  },
  {
   "cell_type": "code",
   "execution_count": 5,
   "metadata": {},
   "outputs": [
    {
     "name": "stdout",
     "output_type": "stream",
     "text": [
      "type = <class 'int'>; size = 28; object = 1\n"
     ]
    }
   ],
   "source": [
    "a = 1\n",
    "show_size(a)"
   ]
  },
  {
   "cell_type": "code",
   "execution_count": 6,
   "metadata": {},
   "outputs": [
    {
     "name": "stdout",
     "output_type": "stream",
     "text": [
      "type = <class 'list'>; size = 80; object = [1, 2, 3]\n",
      "\ttype = <class 'int'>; size = 28; object = 1\n",
      "\ttype = <class 'int'>; size = 28; object = 2\n",
      "\ttype = <class 'int'>; size = 28; object = 3\n"
     ]
    }
   ],
   "source": [
    "a = [1, 2, 3]\n",
    "show_size(a)"
   ]
  },
  {
   "cell_type": "code",
   "execution_count": 7,
   "metadata": {},
   "outputs": [
    {
     "name": "stdout",
     "output_type": "stream",
     "text": [
      "type = <class 'float'>; size = 24; object = 1.0\n"
     ]
    }
   ],
   "source": [
    "a = 1.\n",
    "show_size(a)"
   ]
  },
  {
   "cell_type": "code",
   "execution_count": 8,
   "metadata": {},
   "outputs": [
    {
     "name": "stdout",
     "output_type": "stream",
     "text": [
      "type = <class 'list'>; size = 80; object = [1.0, 2.0, 3.0]\n",
      "\ttype = <class 'float'>; size = 24; object = 1.0\n",
      "\ttype = <class 'float'>; size = 24; object = 2.0\n",
      "\ttype = <class 'float'>; size = 24; object = 3.0\n"
     ]
    }
   ],
   "source": [
    "a = [1., 2., 3.]\n",
    "show_size(a)"
   ]
  },
  {
   "cell_type": "code",
   "execution_count": 9,
   "metadata": {},
   "outputs": [
    {
     "name": "stdout",
     "output_type": "stream",
     "text": [
      "type = <class 'list'>; size = 80; object = [['1', '2', '3'], [1, 2, 3], [1.0, 2.0, 3.0]]\n",
      "\ttype = <class 'list'>; size = 80; object = ['1', '2', '3']\n",
      "\t\ttype = <class 'str'>; size = 50; object = 1\n",
      "\t\ttype = <class 'str'>; size = 50; object = 2\n",
      "\t\ttype = <class 'str'>; size = 50; object = 3\n",
      "\ttype = <class 'list'>; size = 80; object = [1, 2, 3]\n",
      "\t\ttype = <class 'int'>; size = 28; object = 1\n",
      "\t\ttype = <class 'int'>; size = 28; object = 2\n",
      "\t\ttype = <class 'int'>; size = 28; object = 3\n",
      "\ttype = <class 'list'>; size = 80; object = [1.0, 2.0, 3.0]\n",
      "\t\ttype = <class 'float'>; size = 24; object = 1.0\n",
      "\t\ttype = <class 'float'>; size = 24; object = 2.0\n",
      "\t\ttype = <class 'float'>; size = 24; object = 3.0\n"
     ]
    }
   ],
   "source": [
    "a = [list('123'),\n",
    "     [1, 2, 3],\n",
    "     [1., 2., 3.]]\n",
    "show_size(a)"
   ]
  }
 ],
 "metadata": {
  "kernelspec": {
   "display_name": "Python 3",
   "language": "python",
   "name": "python3"
  },
  "language_info": {
   "codemirror_mode": {
    "name": "ipython",
    "version": 3
   },
   "file_extension": ".py",
   "mimetype": "text/x-python",
   "name": "python",
   "nbconvert_exporter": "python",
   "pygments_lexer": "ipython3",
   "version": "3.8.5"
  }
 },
 "nbformat": 4,
 "nbformat_minor": 4
}
