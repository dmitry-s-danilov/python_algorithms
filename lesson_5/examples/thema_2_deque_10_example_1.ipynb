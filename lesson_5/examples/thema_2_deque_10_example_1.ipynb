{
 "cells": [
  {
   "cell_type": "code",
   "execution_count": 1,
   "metadata": {},
   "outputs": [],
   "source": [
    "from collections import deque\n",
    "from random import randint"
   ]
  },
  {
   "cell_type": "code",
   "execution_count": 2,
   "metadata": {},
   "outputs": [],
   "source": [
    "r, n = (-100, 100), 20\n",
    "x = [randint(*r) for _ in range(n)]"
   ]
  },
  {
   "cell_type": "code",
   "execution_count": 3,
   "metadata": {},
   "outputs": [],
   "source": [
    "y, z = [], []\n",
    "\n",
    "for u in x:\n",
    "    if u < 0:\n",
    "        y.append(u)\n",
    "    elif u > 0:\n",
    "        z.append(u)"
   ]
  },
  {
   "cell_type": "code",
   "execution_count": 4,
   "metadata": {},
   "outputs": [
    {
     "name": "stdout",
     "output_type": "stream",
     "text": [
      "random:\n",
      "[55, 97, 97, -37, -76, 37, -68, -98, 51, 44, 58, -23, 56, -53, 100, 52, 92, 61, -89, 43]\n",
      "20\n",
      "\n",
      "negative:\n",
      "[-37, -76, -68, -98, -23, -53, -89]\n",
      "7\n",
      "\n",
      "positive:\n",
      "[55, 97, 97, 37, 51, 44, 58, 56, 100, 52, 92, 61, 43]\n",
      "13\n"
     ]
    }
   ],
   "source": [
    "print(f'random:\\n{x}\\n{len(x)}',\n",
    "      f'negative:\\n{y}\\n{len(y)}',\n",
    "      f'positive:\\n{z}\\n{len(z)}',\n",
    "      sep='\\n\\n')"
   ]
  },
  {
   "cell_type": "code",
   "execution_count": 5,
   "metadata": {},
   "outputs": [
    {
     "name": "stdout",
     "output_type": "stream",
     "text": [
      "random:\n",
      "[55, 97, 97, -37, -76, 37, -68, -98, 51, 44, 58, -23, 56, -53, 100, 52, 92, 61, -89, 43]\n",
      "20\n",
      "\n",
      "negative:\n",
      "[-37, -76, -68, -98, -23, -53, -89]\n",
      "7\n",
      "True\n",
      "\n",
      "positive:\n",
      "[55, 97, 97, 37, 51, 44, 58, 56, 100, 52, 92, 61, 43]\n",
      "13\n",
      "True\n"
     ]
    }
   ],
   "source": [
    "y_1 = [_ for _ in x if _ < 0]\n",
    "y_0 = y_1 == y \n",
    "\n",
    "z_1 = [_ for _ in x if _ > 0]\n",
    "z_0 = z_1 == z\n",
    "\n",
    "print(f'random:\\n{x}\\n{len(x)}',\n",
    "      f'negative:\\n{y_1}\\n{len(y_1)}\\n{y_0}',\n",
    "      f'positive:\\n{z_1}\\n{len(z_1)}\\n{z_0}',\n",
    "      sep='\\n\\n')"
   ]
  },
  {
   "cell_type": "code",
   "execution_count": 6,
   "metadata": {},
   "outputs": [
    {
     "name": "stdout",
     "output_type": "stream",
     "text": [
      "random:\n",
      "[55, 97, 97, -37, -76, 37, -68, -98, 51, 44, 58, -23, 56, -53, 100, 52, 92, 61, -89, 43]\n",
      "20\n",
      "\n",
      "deque:\n",
      "deque([-89, -53, -23, -98, -68, -76, -37, 55, 97, 97, 37, 51, 44, 58, 56, 100, 52, 92, 61, 43])\n",
      "20\n",
      "\n",
      "negative:\n",
      "[-37, -76, -68, -98, -23, -53, -89]\n",
      "7\n",
      "True\n",
      "\n",
      "positive:\n",
      "[55, 97, 97, 37, 51, 44, 58, 56, 100, 52, 92, 61, 43]\n",
      "13\n",
      "True\n"
     ]
    }
   ],
   "source": [
    "w = deque()\n",
    "\n",
    "i= 0\n",
    "for u in x:\n",
    "    if u < 0:\n",
    "        w.appendleft(u)\n",
    "        i += 1\n",
    "    elif u > 0:\n",
    "        w.append(u)\n",
    "\n",
    "y_2 = list(w)[:i]\n",
    "y_2.reverse()\n",
    "y_0 = y_2 == y\n",
    "\n",
    "z_2 = list(w)[i:]\n",
    "z_0 = z_2 == z\n",
    "\n",
    "print(f'random:\\n{x}\\n{len(x)}',\n",
    "      f'deque:\\n{w}\\n{len(w)}',\n",
    "      f'negative:\\n{y_2}\\n{len(y_2)}\\n{y_0}',\n",
    "      f'positive:\\n{z_2}\\n{len(z_2)}\\n{z_0}',\n",
    "      sep='\\n\\n')"
   ]
  }
 ],
 "metadata": {
  "kernelspec": {
   "display_name": "Python 3",
   "language": "python",
   "name": "python3"
  },
  "language_info": {
   "codemirror_mode": {
    "name": "ipython",
    "version": 3
   },
   "file_extension": ".py",
   "mimetype": "text/x-python",
   "name": "python",
   "nbconvert_exporter": "python",
   "pygments_lexer": "ipython3",
   "version": "3.8.5"
  }
 },
 "nbformat": 4,
 "nbformat_minor": 4
}
