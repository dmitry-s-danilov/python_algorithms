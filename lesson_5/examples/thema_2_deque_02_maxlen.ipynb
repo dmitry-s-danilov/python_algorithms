{
 "cells": [
  {
   "cell_type": "code",
   "execution_count": 1,
   "metadata": {},
   "outputs": [],
   "source": [
    "from collections import deque"
   ]
  },
  {
   "cell_type": "code",
   "execution_count": 2,
   "metadata": {},
   "outputs": [],
   "source": [
    "n = 3"
   ]
  },
  {
   "cell_type": "code",
   "execution_count": 3,
   "metadata": {},
   "outputs": [
    {
     "name": "stdout",
     "output_type": "stream",
     "text": [
      "<class 'collections.deque'>:\n",
      "deque([], maxlen=3)\n"
     ]
    }
   ],
   "source": [
    "y = deque(maxlen=n)\n",
    "\n",
    "print(f'{type(y)}:\\n{y}')"
   ]
  },
  {
   "cell_type": "code",
   "execution_count": 4,
   "metadata": {},
   "outputs": [
    {
     "name": "stdout",
     "output_type": "stream",
     "text": [
      "<class 'list'>:\n",
      "[1]\n",
      "\n",
      "<class 'collections.deque'>:\n",
      "deque([1], maxlen=3)\n"
     ]
    }
   ],
   "source": [
    "x = [1] \n",
    "y = deque(x, maxlen=n)\n",
    "\n",
    "print(f'{type(x)}:\\n{x}',\n",
    "      f'{type(y)}:\\n{y}',\n",
    "      sep='\\n\\n')"
   ]
  },
  {
   "cell_type": "code",
   "execution_count": 5,
   "metadata": {},
   "outputs": [
    {
     "name": "stdout",
     "output_type": "stream",
     "text": [
      "<class 'list'>:\n",
      "[1, 2, 3]\n",
      "\n",
      "<class 'collections.deque'>:\n",
      "deque([1, 2, 3], maxlen=3)\n"
     ]
    }
   ],
   "source": [
    "x = [1, 2, 3] \n",
    "y = deque(x, maxlen=n)\n",
    "\n",
    "print(f'{type(x)}:\\n{x}',\n",
    "      f'{type(y)}:\\n{y}',\n",
    "      sep='\\n\\n')"
   ]
  },
  {
   "cell_type": "code",
   "execution_count": 6,
   "metadata": {},
   "outputs": [
    {
     "name": "stdout",
     "output_type": "stream",
     "text": [
      "<class 'list'>:\n",
      "[1, 2, 3, 4]\n",
      "\n",
      "<class 'collections.deque'>:\n",
      "deque([2, 3, 4], maxlen=3)\n"
     ]
    }
   ],
   "source": [
    "x = [1, 2, 3, 4] \n",
    "y = deque(x, maxlen=n)\n",
    "\n",
    "print(f'{type(x)}:\\n{x}',\n",
    "      f'{type(y)}:\\n{y}',\n",
    "      sep='\\n\\n')"
   ]
  }
 ],
 "metadata": {
  "kernelspec": {
   "display_name": "Python 3",
   "language": "python",
   "name": "python3"
  },
  "language_info": {
   "codemirror_mode": {
    "name": "ipython",
    "version": 3
   },
   "file_extension": ".py",
   "mimetype": "text/x-python",
   "name": "python",
   "nbconvert_exporter": "python",
   "pygments_lexer": "ipython3",
   "version": "3.8.5"
  }
 },
 "nbformat": 4,
 "nbformat_minor": 4
}
