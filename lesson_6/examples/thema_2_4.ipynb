{
 "cells": [
  {
   "cell_type": "code",
   "execution_count": 1,
   "metadata": {},
   "outputs": [
    {
     "name": "stdout",
     "output_type": "stream",
     "text": [
      "65: A\n",
      "66: B\n",
      "67: C\n",
      "68: D\n",
      "69: E\n",
      "70: F\n",
      "71: G\n",
      "72: H\n",
      "73: I\n",
      "74: J\n",
      "75: K\n",
      "76: L\n",
      "77: M\n",
      "78: N\n",
      "79: O\n",
      "80: P\n",
      "81: Q\n",
      "82: R\n",
      "83: S\n",
      "84: T\n",
      "85: U\n",
      "86: V\n",
      "87: W\n",
      "88: X\n",
      "89: Y\n",
      "90: Z\n"
     ]
    }
   ],
   "source": [
    "r = ord('A'), ord('Z') + 1\n",
    "for _ in range(*r):\n",
    "    print(f'{_}: {chr(_)}')"
   ]
  },
  {
   "cell_type": "code",
   "execution_count": 2,
   "metadata": {},
   "outputs": [
    {
     "name": "stdout",
     "output_type": "stream",
     "text": [
      "097: a\n",
      "098: b\n",
      "099: c\n",
      "100: d\n",
      "101: e\n",
      "102: f\n",
      "103: g\n",
      "104: h\n",
      "105: i\n",
      "106: j\n",
      "107: k\n",
      "108: l\n",
      "109: m\n",
      "110: n\n",
      "111: o\n",
      "112: p\n",
      "113: q\n",
      "114: r\n",
      "115: s\n",
      "116: t\n",
      "117: u\n",
      "118: v\n",
      "119: w\n",
      "120: x\n",
      "121: y\n",
      "122: z\n"
     ]
    }
   ],
   "source": [
    "r = ord('a'), ord('z') + 1\n",
    "for _ in range(*r):\n",
    "    print(f'{_:03}: {chr(_)}')"
   ]
  },
  {
   "cell_type": "code",
   "execution_count": 3,
   "metadata": {},
   "outputs": [
    {
     "name": "stdout",
     "output_type": "stream",
     "text": [
      "1040: А\n",
      "1041: Б\n",
      "1042: В\n",
      "1043: Г\n",
      "1044: Д\n",
      "1045: Е\n",
      "1046: Ж\n",
      "1047: З\n",
      "1048: И\n",
      "1049: Й\n",
      "1050: К\n",
      "1051: Л\n",
      "1052: М\n",
      "1053: Н\n",
      "1054: О\n",
      "1055: П\n",
      "1056: Р\n",
      "1057: С\n",
      "1058: Т\n",
      "1059: У\n",
      "1060: Ф\n",
      "1061: Х\n",
      "1062: Ц\n",
      "1063: Ч\n",
      "1064: Ш\n",
      "1065: Щ\n",
      "1066: Ъ\n",
      "1067: Ы\n",
      "1068: Ь\n",
      "1069: Э\n",
      "1070: Ю\n",
      "1071: Я\n",
      "1072: а\n",
      "1073: б\n",
      "1074: в\n",
      "1075: г\n",
      "1076: д\n",
      "1077: е\n",
      "1078: ж\n",
      "1079: з\n",
      "1080: и\n",
      "1081: й\n",
      "1082: к\n",
      "1083: л\n",
      "1084: м\n",
      "1085: н\n",
      "1086: о\n",
      "1087: п\n",
      "1088: р\n",
      "1089: с\n",
      "1090: т\n",
      "1091: у\n",
      "1092: ф\n",
      "1093: х\n",
      "1094: ц\n",
      "1095: ч\n",
      "1096: ш\n",
      "1097: щ\n",
      "1098: ъ\n",
      "1099: ы\n",
      "1100: ь\n",
      "1101: э\n",
      "1102: ю\n",
      "1103: я\n"
     ]
    }
   ],
   "source": [
    "r = ord('А'), ord('я') + 1\n",
    "for _ in range(*r):\n",
    "    print(f'{_}: {chr(_)}')"
   ]
  }
 ],
 "metadata": {
  "kernelspec": {
   "display_name": "Python 3",
   "language": "python",
   "name": "python3"
  },
  "language_info": {
   "codemirror_mode": {
    "name": "ipython",
    "version": 3
   },
   "file_extension": ".py",
   "mimetype": "text/x-python",
   "name": "python",
   "nbconvert_exporter": "python",
   "pygments_lexer": "ipython3",
   "version": "3.8.5"
  }
 },
 "nbformat": 4,
 "nbformat_minor": 4
}
