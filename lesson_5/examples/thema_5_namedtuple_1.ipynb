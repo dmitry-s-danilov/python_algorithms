{
 "cells": [
  {
   "cell_type": "code",
   "execution_count": 1,
   "metadata": {},
   "outputs": [],
   "source": [
    "from collections import namedtuple"
   ]
  },
  {
   "cell_type": "code",
   "execution_count": 2,
   "metadata": {},
   "outputs": [
    {
     "name": "stdout",
     "output_type": "stream",
     "text": [
      "('Aaz', 'Izverg', 100, 0.0, 250)\n",
      "<class 'tuple'>\n",
      "name: Aaz\n",
      "race: Izverg\n",
      "health: 100\n",
      "mana: 0.0\n",
      "strength: 250\n"
     ]
    }
   ],
   "source": [
    "hero = ('Aaz',  # 0: name\n",
    "        'Izverg',  # 1: race\n",
    "        100,  # 2: health\n",
    "        0.,  # 3: mana \n",
    "        250  # 4: strength\n",
    "       )\n",
    "\n",
    "print(hero,\n",
    "      hero.__class__,\n",
    "      f'name: {hero[0]}',\n",
    "      f'race: {hero[1]}',\n",
    "      f'health: {hero[2]}',\n",
    "      f'mana: {hero[3]}',\n",
    "      f'strength: {hero[4]}',\n",
    "      sep='\\n')"
   ]
  },
  {
   "cell_type": "code",
   "execution_count": 3,
   "metadata": {},
   "outputs": [
    {
     "name": "stdout",
     "output_type": "stream",
     "text": [
      "<__main__.Person object at 0x7f26a43a3100>\n",
      "<class '__main__.Person'>\n",
      "name: Aaz\n",
      "race: Izverg\n",
      "health: 100\n",
      "mana: 0.0\n",
      "strength: 150\n"
     ]
    }
   ],
   "source": [
    "class Person:\n",
    "    def __init__(self, name, race, health, mana, strength):\n",
    "        self.name = name\n",
    "        self.race = race\n",
    "        self.health = health\n",
    "        self.mana = mana\n",
    "        self.strength = strength\n",
    "\n",
    "hero = Person(name='Aaz',\n",
    "              race='Izverg',\n",
    "              health=100,\n",
    "              mana=0.,\n",
    "              strength=150)\n",
    "# hero = Person('Aaz', 'Izverg', 100, 0., 150)\n",
    "\n",
    "print(hero,\n",
    "      hero.__class__,\n",
    "      f'name: {hero.name}',\n",
    "      f'race: {hero.race}',\n",
    "      f'health: {hero.health}',\n",
    "      f'mana: {hero.mana}',\n",
    "      f'strength: {hero.strength}',\n",
    "      sep='\\n')"
   ]
  },
  {
   "cell_type": "code",
   "execution_count": 4,
   "metadata": {},
   "outputs": [
    {
     "name": "stdout",
     "output_type": "stream",
     "text": [
      "Person(name='Aaz', race='Izverg', health=100, mana=0.0, strength=150)\n",
      "<class '__main__.Person'>\n",
      "name: Aaz\n",
      "race: Izverg\n",
      "health: 100\n",
      "mana: 0.0\n",
      "strength: 150\n"
     ]
    }
   ],
   "source": [
    "Person = namedtuple('Person', 'name, race, health, mana, strength')\n",
    "# Person = namedtuple('Person', 'name race health mana strength')\n",
    "\n",
    "hero = Person(name='Aaz',\n",
    "              race='Izverg',\n",
    "              health=100,\n",
    "              mana=0.,\n",
    "              strength=150)\n",
    "# hero = Person('Aaz', 'Izverg', 100, 0., 150)\n",
    "\n",
    "print(hero,\n",
    "      hero.__class__,\n",
    "      f'name: {hero.name}',\n",
    "      f'race: {hero.race}',\n",
    "      f'health: {hero.health}',\n",
    "      f'mana: {hero.mana}',\n",
    "      f'strength: {hero.strength}',\n",
    "      sep='\\n')"
   ]
  },
  {
   "cell_type": "code",
   "execution_count": 5,
   "metadata": {},
   "outputs": [
    {
     "name": "stdout",
     "output_type": "stream",
     "text": [
      "Person(name='Aaz', race='Izverg', health=100, mana=0.0, strength=150)\n",
      "<class '__main__.Person'>\n",
      "name: Aaz\n",
      "race: Izverg\n",
      "health: 100\n",
      "mana: 0.0\n",
      "strength: 150\n"
     ]
    }
   ],
   "source": [
    "Person_prop =  ['name', 'race', 'health', 'mana', 'strength']\n",
    "Person = namedtuple('Person', Person_prop)\n",
    "\n",
    "hero = Person(name='Aaz',\n",
    "              race='Izverg',\n",
    "              health=100,\n",
    "              mana=0.,\n",
    "              strength=150)\n",
    "# hero = Person('Aaz', 'Izverg', 100, 0., 150)\n",
    "\n",
    "print(hero,\n",
    "      hero.__class__,\n",
    "      f'name: {hero.name}',\n",
    "      f'race: {hero.race}',\n",
    "      f'health: {hero.health}',\n",
    "      f'mana: {hero.mana}',\n",
    "      f'strength: {hero.strength}',\n",
    "      sep='\\n')"
   ]
  },
  {
   "cell_type": "code",
   "execution_count": 6,
   "metadata": {},
   "outputs": [
    {
     "name": "stdout",
     "output_type": "stream",
     "text": [
      "Person(_0='Aaz', _1='Izverg', health=100, mana=0.0, _4=150)\n",
      "<class '__main__.Person'>\n",
      "name: Aaz\n",
      "race: Izverg\n",
      "health: 100\n",
      "mana: 0.0\n",
      "strength: 150\n",
      "<class '__main__.Person'>\n"
     ]
    }
   ],
   "source": [
    "Person_prop =  ['0name', '1race', 'health', 'mana', '_strength']\n",
    "Person = namedtuple('Person', Person_prop, rename=True)\n",
    "\n",
    "hero = Person('Aaz', 'Izverg', 100, 0., 150)\n",
    "\n",
    "print(hero,\n",
    "      hero.__class__,\n",
    "      f'name: {hero._0}',\n",
    "      f'race: {hero._1}',\n",
    "      f'health: {hero.health}',\n",
    "      f'mana: {hero.mana}',\n",
    "      f'strength: {hero._4}',\n",
    "      hero.__class__,\n",
    "      sep='\\n')"
   ]
  }
 ],
 "metadata": {
  "kernelspec": {
   "display_name": "Python 3",
   "language": "python",
   "name": "python3"
  },
  "language_info": {
   "codemirror_mode": {
    "name": "ipython",
    "version": 3
   },
   "file_extension": ".py",
   "mimetype": "text/x-python",
   "name": "python",
   "nbconvert_exporter": "python",
   "pygments_lexer": "ipython3",
   "version": "3.8.5"
  }
 },
 "nbformat": 4,
 "nbformat_minor": 4
}
