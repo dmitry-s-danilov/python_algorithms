{
 "cells": [
  {
   "cell_type": "code",
   "execution_count": 1,
   "metadata": {},
   "outputs": [],
   "source": [
    "from collections import Counter"
   ]
  },
  {
   "cell_type": "code",
   "execution_count": 2,
   "metadata": {},
   "outputs": [
    {
     "name": "stdout",
     "output_type": "stream",
     "text": [
      "<class 'collections.Counter'>:\n",
      "Counter()\n"
     ]
    }
   ],
   "source": [
    "y = Counter()\n",
    "\n",
    "print(f'{type(y)}:\\n{y}')"
   ]
  },
  {
   "cell_type": "code",
   "execution_count": 3,
   "metadata": {},
   "outputs": [
    {
     "name": "stdout",
     "output_type": "stream",
     "text": [
      "<class 'str'>:\n",
      "abracadabra\n",
      "\n",
      "<class 'collections.Counter'>:\n",
      "Counter({'a': 5, 'b': 2, 'r': 2, 'c': 1, 'd': 1})\n"
     ]
    }
   ],
   "source": [
    "x = 'abracadabra'\n",
    "y = Counter(x)\n",
    "\n",
    "print(f'{type(x)}:\\n{x}',\n",
    "      f'{type(y)}:\\n{y}',\n",
    "      sep='\\n\\n')"
   ]
  },
  {
   "cell_type": "code",
   "execution_count": 4,
   "metadata": {},
   "outputs": [
    {
     "name": "stdout",
     "output_type": "stream",
     "text": [
      "<class 'tuple'>:\n",
      "(1, 2, 1, 2, 3, 2, 1, 2, 3, 4, 3, 2, 1)\n",
      "\n",
      "<class 'collections.Counter'>:\n",
      "Counter({2: 5, 1: 4, 3: 3, 4: 1})\n"
     ]
    }
   ],
   "source": [
    "x = (1, 2, 1, 2, 3, 2, 1, 2, 3, 4, 3, 2, 1)\n",
    "y = Counter(x)\n",
    "\n",
    "print(f'{type(x)}:\\n{x}',\n",
    "      f'{type(y)}:\\n{y}',\n",
    "      sep='\\n\\n')"
   ]
  },
  {
   "cell_type": "code",
   "execution_count": 5,
   "metadata": {},
   "outputs": [
    {
     "name": "stdout",
     "output_type": "stream",
     "text": [
      "<class 'list'>:\n",
      "[1, 2, 1, 2, 3, 2, 1, 2, 3, 4, 3, 2, 1]\n",
      "\n",
      "<class 'collections.Counter'>:\n",
      "Counter({2: 5, 1: 4, 3: 3, 4: 1})\n"
     ]
    }
   ],
   "source": [
    "x = list(x)\n",
    "y = Counter(x)\n",
    "\n",
    "print(f'{type(x)}:\\n{x}',\n",
    "      f'{type(y)}:\\n{y}',\n",
    "      sep='\\n\\n')"
   ]
  },
  {
   "cell_type": "code",
   "execution_count": 6,
   "metadata": {},
   "outputs": [
    {
     "name": "stdout",
     "output_type": "stream",
     "text": [
      "<class 'set'>:\n",
      "{1, 2, 3, 4}\n",
      "\n",
      "<class 'collections.Counter'>:\n",
      "Counter({1: 1, 2: 1, 3: 1, 4: 1})\n"
     ]
    }
   ],
   "source": [
    "x = set(x)\n",
    "y = Counter(x)\n",
    "\n",
    "print(f'{type(x)}:\\n{x}',\n",
    "      f'{type(y)}:\\n{y}',\n",
    "      sep='\\n\\n')"
   ]
  },
  {
   "cell_type": "code",
   "execution_count": 7,
   "metadata": {},
   "outputs": [
    {
     "name": "stdout",
     "output_type": "stream",
     "text": [
      "<class 'dict'>:\n",
      "{'a': 5, 'b': 2, 'c': 1, 'd': 1, 'r': 2}\n",
      "\n",
      "<class 'collections.Counter'>:\n",
      "Counter({'a': 5, 'b': 2, 'r': 2, 'c': 1, 'd': 1})\n"
     ]
    }
   ],
   "source": [
    "x = {'a': 5, 'b': 2, 'c': 1, 'd': 1, 'r': 2}\n",
    "y = Counter(x)\n",
    "\n",
    "print(f'{type(x)}:\\n{x}',\n",
    "      f'{type(y)}:\\n{y}',\n",
    "      sep='\\n\\n')"
   ]
  },
  {
   "cell_type": "code",
   "execution_count": 8,
   "metadata": {},
   "outputs": [
    {
     "name": "stdout",
     "output_type": "stream",
     "text": [
      "<class 'collections.Counter'>:\n",
      "Counter({'a': 5, 'b': 2, 'r': 2, 'c': 1, 'd': 1})\n"
     ]
    }
   ],
   "source": [
    "y = Counter(a=5, b=2, c=1, d=1, r=2)\n",
    "\n",
    "print(f'{type(y)}:\\n{y}',\n",
    "      sep='\\n\\n')"
   ]
  }
 ],
 "metadata": {
  "kernelspec": {
   "display_name": "Python 3",
   "language": "python",
   "name": "python3"
  },
  "language_info": {
   "codemirror_mode": {
    "name": "ipython",
    "version": 3
   },
   "file_extension": ".py",
   "mimetype": "text/x-python",
   "name": "python",
   "nbconvert_exporter": "python",
   "pygments_lexer": "ipython3",
   "version": "3.8.5"
  }
 },
 "nbformat": 4,
 "nbformat_minor": 4
}
