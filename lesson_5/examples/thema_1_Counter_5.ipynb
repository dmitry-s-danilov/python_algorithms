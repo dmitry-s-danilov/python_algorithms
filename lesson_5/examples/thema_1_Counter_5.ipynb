{
 "cells": [
  {
   "cell_type": "code",
   "execution_count": 12,
   "metadata": {},
   "outputs": [],
   "source": [
    "from collections import Counter"
   ]
  },
  {
   "cell_type": "code",
   "execution_count": 21,
   "metadata": {},
   "outputs": [
    {
     "name": "stdout",
     "output_type": "stream",
     "text": [
      "Counter({'d': 2, 'c': 1, 'b': 0, 'a': -1})\n",
      "Counter({'a': 1})\n",
      "Counter()\n"
     ]
    }
   ],
   "source": [
    "x = Counter(a=-1, b=0, c=1, d=2)\n",
    "y = -x\n",
    "z = -y\n",
    "\n",
    "print(x, y, z, sep='\\n')"
   ]
  }
 ],
 "metadata": {
  "kernelspec": {
   "display_name": "Python 3",
   "language": "python",
   "name": "python3"
  },
  "language_info": {
   "codemirror_mode": {
    "name": "ipython",
    "version": 3
   },
   "file_extension": ".py",
   "mimetype": "text/x-python",
   "name": "python",
   "nbconvert_exporter": "python",
   "pygments_lexer": "ipython3",
   "version": "3.8.5"
  }
 },
 "nbformat": 4,
 "nbformat_minor": 4
}
