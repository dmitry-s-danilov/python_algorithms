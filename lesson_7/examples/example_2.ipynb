{
 "cells": [
  {
   "cell_type": "markdown",
   "metadata": {},
   "source": [
    "# Geekbrains. Алгоритмы и структуры данных на Python\n",
    "## Урок 7. Алгоритмы сортировки"
   ]
  },
  {
   "cell_type": "markdown",
   "metadata": {},
   "source": [
    "### Пример 2. Алгоритм сортировки выбором\n",
    "\n",
    " сортировка           | пузырьком  | выбором    |\n",
    ":---------------------|:----------:|:----------:|\n",
    "cложность             | $$O(n^2)$$ | $$O(n^2)$$ |\n",
    "устойчивость          | да         | да         |\n",
    "тип                   | обменная   | выборная   |\n",
    "дополнительная память | нет        | нет        |\n"
   ]
  },
  {
   "cell_type": "code",
   "execution_count": 1,
   "metadata": {},
   "outputs": [],
   "source": [
    "from random import randint, shuffle\n",
    "from timeit import timeit"
   ]
  },
  {
   "cell_type": "code",
   "execution_count": 2,
   "metadata": {},
   "outputs": [],
   "source": [
    "def func_1(u):\n",
    "    \"\"\"bubble sort\"\"\"\n",
    "    for i in range(1, len(u)):  \n",
    "        for j in range(len(u) - i):\n",
    "            if u[j] > u[j + 1]:\n",
    "                u[j], u[j + 1] = u[j + 1], u[j]"
   ]
  },
  {
   "cell_type": "code",
   "execution_count": 3,
   "metadata": {},
   "outputs": [],
   "source": [
    "def func_2(u):\n",
    "    \"\"\"selection sort\"\"\"\n",
    "    for i in range(0, len(u)):\n",
    "        k = i\n",
    "        for j in range(k + 1, len(u)):\n",
    "            if u[j] < u[k]:\n",
    "                k = j\n",
    "        u[i], u[k] = u[k], u[i]"
   ]
  },
  {
   "cell_type": "code",
   "execution_count": 4,
   "metadata": {},
   "outputs": [],
   "source": [
    "check_fields = ('sample', 'benchmark', 'reference', 'check')\n",
    "\n",
    "def func_check(u, g, h): \n",
    "    n = 10000 # timeit numbers\n",
    "\n",
    "    v = u.copy()\n",
    "    g(v)\n",
    "\n",
    "    w = dict()\n",
    "    for f in h:\n",
    "        x = u.copy()\n",
    "        t = timeit('f(x)',\n",
    "                   number=n,\n",
    "                   globals=locals())\n",
    "        s = x == v\n",
    "        w[f.__name__] = (s, t)\n",
    "        \n",
    "    c = (u, v, g.__name__, w)\n",
    "    return c\n",
    "\n",
    "def check_string(c, k):\n",
    "    s = ''\n",
    "    \n",
    "    for _ in range(len(c) - 1):\n",
    "        s += f'{k[_]}: {c[_]}\\n'\n",
    "    \n",
    "    s += f'{k[-1]}:'\n",
    "    \n",
    "    for p, q in c[-1].items():\n",
    "        s += '\\n\\t{}: {} {}'.format(p, *q)\n",
    "    return s"
   ]
  },
  {
   "cell_type": "code",
   "execution_count": 7,
   "metadata": {},
   "outputs": [
    {
     "name": "stdout",
     "output_type": "stream",
     "text": [
      "0 [0, 1, 2, 3, 4, 5, 6, 7, 8, 9]\n",
      "1 [2, 7, 9, 1, 0, 6, 3, 4, 8, 5]\n",
      "2 [2, 4, 7, 6, 3, 2, 0, 1, 2, 2]\n"
     ]
    }
   ],
   "source": [
    "n = 10\n",
    "\n",
    "y = []\n",
    "\n",
    "x = [_ for _ in range(n)]\n",
    "y.append(x.copy())\n",
    "\n",
    "shuffle(x)\n",
    "y.append(x.copy())\n",
    "\n",
    "r = 0, n - 2\n",
    "x = [randint(*r) for _ in range(n)]\n",
    "y.append(x.copy())\n",
    "\n",
    "for _ in enumerate(y):\n",
    "    print('{} {}'.format(*_))"
   ]
  },
  {
   "cell_type": "code",
   "execution_count": 8,
   "metadata": {},
   "outputs": [
    {
     "name": "stdout",
     "output_type": "stream",
     "text": [
      "0\n",
      "sample: [0, 1, 2, 3, 4, 5, 6, 7, 8, 9]\n",
      "benchmark: [0, 1, 2, 3, 4, 5, 6, 7, 8, 9]\n",
      "reference: func_1\n",
      "check:\n",
      "\tfunc_1: True 0.14185051000094973\n",
      "\tfunc_2: True 0.14168428900302388\n",
      "\n",
      "1\n",
      "sample: [2, 7, 9, 1, 0, 6, 3, 4, 8, 5]\n",
      "benchmark: [0, 1, 2, 3, 4, 5, 6, 7, 8, 9]\n",
      "reference: func_1\n",
      "check:\n",
      "\tfunc_1: True 0.12212321200058796\n",
      "\tfunc_2: True 0.13756875100079924\n",
      "\n",
      "2\n",
      "sample: [2, 4, 7, 6, 3, 2, 0, 1, 2, 2]\n",
      "benchmark: [0, 1, 2, 2, 2, 2, 3, 4, 6, 7]\n",
      "reference: func_1\n",
      "check:\n",
      "\tfunc_1: True 0.12537369500205386\n",
      "\tfunc_2: True 0.1407894820004003\n",
      "\n"
     ]
    }
   ],
   "source": [
    "funcs = (func_1,\n",
    "         func_2)\n",
    "\n",
    "checks = [func_check(x, func_1, funcs)\n",
    "          for x in y]\n",
    "\n",
    "for index, check in enumerate(checks):\n",
    "    print(index,\n",
    "          check_string(check, check_fields),\n",
    "          sep='\\n', end='\\n\\n')"
   ]
  }
 ],
 "metadata": {
  "kernelspec": {
   "display_name": "Python 3",
   "language": "python",
   "name": "python3"
  },
  "language_info": {
   "codemirror_mode": {
    "name": "ipython",
    "version": 3
   },
   "file_extension": ".py",
   "mimetype": "text/x-python",
   "name": "python",
   "nbconvert_exporter": "python",
   "pygments_lexer": "ipython3",
   "version": "3.8.5"
  }
 },
 "nbformat": 4,
 "nbformat_minor": 4
}
