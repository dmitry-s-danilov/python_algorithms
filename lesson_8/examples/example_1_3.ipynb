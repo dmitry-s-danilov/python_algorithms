{
 "cells": [
  {
   "cell_type": "markdown",
   "metadata": {},
   "source": [
    "### weighted directed graphm"
   ]
  },
  {
   "cell_type": "markdown",
   "metadata": {},
   "source": [
    "#### adjacency matrix"
   ]
  },
  {
   "cell_type": "code",
   "execution_count": 1,
   "metadata": {},
   "outputs": [
    {
     "name": "stdout",
     "output_type": "stream",
     "text": [
      "0: [0, 2, 3, 0]\n",
      "1: [0, 0, 2, 1]\n",
      "2: [0, 2, 0, 0]\n",
      "3: [0, 0, 0, 0]\n"
     ]
    }
   ],
   "source": [
    "g = [[0, 2, 3, 0],\n",
    "     [0, 0, 2, 1],\n",
    "     [0, 2, 0, 0],\n",
    "     [0, 0, 0, 0]]\n",
    "\n",
    "for _ in enumerate(g):\n",
    "    print('{}: {}'.format(*_))"
   ]
  },
  {
   "cell_type": "code",
   "execution_count": 2,
   "metadata": {},
   "outputs": [
    {
     "name": "stdout",
     "output_type": "stream",
     "text": [
      "0 -> 0: 0\n",
      "0 -> 1: 2\n",
      "0 -> 2: 3\n",
      "0 -> 3: 0\n",
      "\n",
      "1 -> 0: 0\n",
      "1 -> 1: 0\n",
      "1 -> 2: 2\n",
      "1 -> 3: 1\n",
      "\n",
      "2 -> 0: 0\n",
      "2 -> 1: 2\n",
      "2 -> 2: 0\n",
      "2 -> 3: 0\n",
      "\n",
      "3 -> 0: 0\n",
      "3 -> 1: 0\n",
      "3 -> 2: 0\n",
      "3 -> 3: 0\n",
      "\n"
     ]
    }
   ],
   "source": [
    "# n = range(len(g))\n",
    "# a = g[i][j]\n",
    "\n",
    "n = range(len(g))\n",
    "for i in n:\n",
    "    for j in n:\n",
    "        a = g[i][j]\n",
    "        print(f'{i} -> {j}: {a}')\n",
    "    print()"
   ]
  },
  {
   "cell_type": "markdown",
   "metadata": {},
   "source": [
    "#### adjacency list"
   ]
  },
  {
   "cell_type": "code",
   "execution_count": 3,
   "metadata": {},
   "outputs": [
    {
     "name": "stdout",
     "output_type": "stream",
     "text": [
      "0: [(1, 2), (2, 3)]\n",
      "1: [(2, 2), (3, 1)]\n",
      "2: [(1, 2)]\n",
      "3: []\n"
     ]
    }
   ],
   "source": [
    "g = [[(1, 2), (2, 3)],\n",
    "     [(2, 2), (3, 1)],\n",
    "     [(1, 2)],\n",
    "     []]\n",
    "\n",
    "for _ in enumerate(g):\n",
    "    print('{}: {}'.format(*_))"
   ]
  },
  {
   "cell_type": "code",
   "execution_count": 4,
   "metadata": {},
   "outputs": [
    {
     "name": "stdout",
     "output_type": "stream",
     "text": [
      "0 -> 0: False\n",
      "0 -> 1: True\n",
      "0 -> 2: True\n",
      "0 -> 3: False\n",
      "\n",
      "1 -> 0: False\n",
      "1 -> 1: False\n",
      "1 -> 2: True\n",
      "1 -> 3: True\n",
      "\n",
      "2 -> 0: False\n",
      "2 -> 1: True\n",
      "2 -> 2: False\n",
      "2 -> 3: False\n",
      "\n",
      "3 -> 0: False\n",
      "3 -> 1: False\n",
      "3 -> 2: False\n",
      "3 -> 3: False\n",
      "\n"
     ]
    }
   ],
   "source": [
    "# n = range(len(g))\n",
    "# a = j in [_[0] for _ in g[i]]\n",
    "\n",
    "n = range(len(g))\n",
    "for i in n:\n",
    "    for j in n:\n",
    "        a = j in [_[0] for _ in g[i]]\n",
    "        print(f'{i} -> {j}: {a}')\n",
    "    print()"
   ]
  },
  {
   "cell_type": "code",
   "execution_count": 5,
   "metadata": {},
   "outputs": [
    {
     "name": "stdout",
     "output_type": "stream",
     "text": [
      "0 -> 0: False\n",
      "0 -> 1: 2\n",
      "0 -> 2: 3\n",
      "0 -> 3: False\n",
      "\n",
      "1 -> 0: False\n",
      "1 -> 1: False\n",
      "1 -> 2: 2\n",
      "1 -> 3: 1\n",
      "\n",
      "2 -> 0: False\n",
      "2 -> 1: 2\n",
      "2 -> 2: False\n",
      "2 -> 3: False\n",
      "\n",
      "3 -> 0: False\n",
      "3 -> 1: False\n",
      "3 -> 2: False\n",
      "3 -> 3: False\n",
      "\n"
     ]
    }
   ],
   "source": [
    "n = range(len(g))\n",
    "for i in n:\n",
    "    for j in n:\n",
    "        a = False\n",
    "        for k, w in g[i]:\n",
    "            if k == j:\n",
    "                a = w\n",
    "                break\n",
    "        print(f'{i} -> {j}: {a}')\n",
    "    print()"
   ]
  },
  {
   "cell_type": "code",
   "execution_count": 6,
   "metadata": {},
   "outputs": [
    {
     "name": "stdout",
     "output_type": "stream",
     "text": [
      "0 -> 0: False\n",
      "0 -> 1: 2\n",
      "0 -> 2: 3\n",
      "0 -> 3: False\n",
      "\n",
      "1 -> 0: False\n",
      "1 -> 1: False\n",
      "1 -> 2: 2\n",
      "1 -> 3: 1\n",
      "\n",
      "2 -> 0: False\n",
      "2 -> 1: 2\n",
      "2 -> 2: False\n",
      "2 -> 3: False\n",
      "\n",
      "3 -> 0: False\n",
      "3 -> 1: False\n",
      "3 -> 2: False\n",
      "3 -> 3: False\n",
      "\n"
     ]
    }
   ],
   "source": [
    "# n = range(len(g))\n",
    "# a = (lambda x: x[0] if len(x) else False)\\\n",
    "# ([w for k, w in g[i] if k == j]\n",
    "\n",
    "n = range(len(g))\n",
    "for i in n:\n",
    "    for j in n:\n",
    "        a = (lambda x: x[0] if len(x) else False)\\\n",
    "        ([w for k, w in g[i] if k == j])\n",
    "        print(f'{i} -> {j}: {a}')\n",
    "    print()"
   ]
  },
  {
   "cell_type": "code",
   "execution_count": 7,
   "metadata": {},
   "outputs": [
    {
     "name": "stdout",
     "output_type": "stream",
     "text": [
      "0: {(2, 3), (1, 2)}\n",
      "1: {(3, 1), (2, 2)}\n",
      "2: {(1, 2)}\n",
      "3: {}\n"
     ]
    }
   ],
   "source": [
    "g = [{(1, 2), (2, 3)},\n",
    "     {(2, 2), (3, 1)},\n",
    "     {(1, 2)},\n",
    "     {}]\n",
    "\n",
    "for _ in enumerate(g):\n",
    "    print('{}: {}'.format(*_))"
   ]
  },
  {
   "cell_type": "code",
   "execution_count": 8,
   "metadata": {},
   "outputs": [
    {
     "name": "stdout",
     "output_type": "stream",
     "text": [
      "0 -> 0: False\n",
      "0 -> 1: True\n",
      "0 -> 2: True\n",
      "0 -> 3: False\n",
      "\n",
      "1 -> 0: False\n",
      "1 -> 1: False\n",
      "1 -> 2: True\n",
      "1 -> 3: True\n",
      "\n",
      "2 -> 0: False\n",
      "2 -> 1: True\n",
      "2 -> 2: False\n",
      "2 -> 3: False\n",
      "\n",
      "3 -> 0: False\n",
      "3 -> 1: False\n",
      "3 -> 2: False\n",
      "3 -> 3: False\n",
      "\n"
     ]
    }
   ],
   "source": [
    "# n = range(len(g))\n",
    "# a = j in [_[0] for _ in g[i]]\n",
    "\n",
    "n = range(len(g))\n",
    "for i in n:\n",
    "    for j in n:\n",
    "        a = j in [_[0] for _ in g[i]]\n",
    "        print(f'{i} -> {j}: {a}')\n",
    "    print()"
   ]
  },
  {
   "cell_type": "code",
   "execution_count": 9,
   "metadata": {},
   "outputs": [
    {
     "name": "stdout",
     "output_type": "stream",
     "text": [
      "0 -> 0: False\n",
      "0 -> 1: 2\n",
      "0 -> 2: 3\n",
      "0 -> 3: False\n",
      "\n",
      "1 -> 0: False\n",
      "1 -> 1: False\n",
      "1 -> 2: 2\n",
      "1 -> 3: 1\n",
      "\n",
      "2 -> 0: False\n",
      "2 -> 1: 2\n",
      "2 -> 2: False\n",
      "2 -> 3: False\n",
      "\n",
      "3 -> 0: False\n",
      "3 -> 1: False\n",
      "3 -> 2: False\n",
      "3 -> 3: False\n",
      "\n"
     ]
    }
   ],
   "source": [
    "n = range(len(g))\n",
    "for i in n:\n",
    "    for j in n:\n",
    "        a = False\n",
    "        for k, w in g[i]:\n",
    "            if k == j:\n",
    "                a = w\n",
    "                break\n",
    "        print(f'{i} -> {j}: {a}')\n",
    "    print()"
   ]
  },
  {
   "cell_type": "code",
   "execution_count": 10,
   "metadata": {},
   "outputs": [
    {
     "name": "stdout",
     "output_type": "stream",
     "text": [
      "0 -> 0: False\n",
      "0 -> 1: 2\n",
      "0 -> 2: 3\n",
      "0 -> 3: False\n",
      "\n",
      "1 -> 0: False\n",
      "1 -> 1: False\n",
      "1 -> 2: 2\n",
      "1 -> 3: 1\n",
      "\n",
      "2 -> 0: False\n",
      "2 -> 1: 2\n",
      "2 -> 2: False\n",
      "2 -> 3: False\n",
      "\n",
      "3 -> 0: False\n",
      "3 -> 1: False\n",
      "3 -> 2: False\n",
      "3 -> 3: False\n",
      "\n"
     ]
    }
   ],
   "source": [
    "# n = range(len(g))\n",
    "# a = (lambda x: x[0] if len(x) else False)\\\n",
    "# ([w for k, w in g[i] if k == j]\n",
    "\n",
    "n = range(len(g))\n",
    "for i in n:\n",
    "    for j in n:\n",
    "        a = (lambda x: x[0] if len(x) else False)\\\n",
    "        ([w for k, w in g[i] if k == j])\n",
    "        print(f'{i} -> {j}: {a}')\n",
    "    print()"
   ]
  },
  {
   "cell_type": "code",
   "execution_count": 11,
   "metadata": {},
   "outputs": [
    {
     "name": "stdout",
     "output_type": "stream",
     "text": [
      "0: {(2, 3), (1, 2)}\n",
      "1: {(3, 1), (2, 2)}\n",
      "2: {(1, 2)}\n",
      "3: {}\n"
     ]
    }
   ],
   "source": [
    "g = {0: {(1, 2),(2, 3)},\n",
    "     1: {(2, 2), (3, 1)},\n",
    "     2: {(1, 2)},\n",
    "     3: {}}\n",
    "\n",
    "for _ in g.items():\n",
    "    print('{}: {}'.format(*_))"
   ]
  },
  {
   "cell_type": "code",
   "execution_count": 12,
   "metadata": {},
   "outputs": [
    {
     "name": "stdout",
     "output_type": "stream",
     "text": [
      "0 -> 0: False\n",
      "0 -> 1: True\n",
      "0 -> 2: True\n",
      "0 -> 3: False\n",
      "\n",
      "1 -> 0: False\n",
      "1 -> 1: False\n",
      "1 -> 2: True\n",
      "1 -> 3: True\n",
      "\n",
      "2 -> 0: False\n",
      "2 -> 1: True\n",
      "2 -> 2: False\n",
      "2 -> 3: False\n",
      "\n",
      "3 -> 0: False\n",
      "3 -> 1: False\n",
      "3 -> 2: False\n",
      "3 -> 3: False\n",
      "\n"
     ]
    }
   ],
   "source": [
    "# n = g.keys()\n",
    "# a = j in [_[0] for _ in g[i]]\n",
    "\n",
    "n = g\n",
    "# n = g.keys()\n",
    "for i in n:\n",
    "    for j in n:\n",
    "        a = j in [_[0] for _ in g[i]]\n",
    "        print(f'{i} -> {j}: {a}')\n",
    "    print()"
   ]
  },
  {
   "cell_type": "code",
   "execution_count": 13,
   "metadata": {},
   "outputs": [
    {
     "name": "stdout",
     "output_type": "stream",
     "text": [
      "0 -> 0: False\n",
      "0 -> 1: 2\n",
      "0 -> 2: 3\n",
      "0 -> 3: False\n",
      "\n",
      "1 -> 0: False\n",
      "1 -> 1: False\n",
      "1 -> 2: 2\n",
      "1 -> 3: 1\n",
      "\n",
      "2 -> 0: False\n",
      "2 -> 1: 2\n",
      "2 -> 2: False\n",
      "2 -> 3: False\n",
      "\n",
      "3 -> 0: False\n",
      "3 -> 1: False\n",
      "3 -> 2: False\n",
      "3 -> 3: False\n",
      "\n"
     ]
    }
   ],
   "source": [
    "n = g\n",
    "# n = g.keys()\n",
    "for i in n:\n",
    "    for j in n:\n",
    "        a = False\n",
    "        for k, w in g[i]:\n",
    "            if k == j:\n",
    "                a = True\n",
    "                break\n",
    "        print(f'{i} -> {j}: {w if a else a}')\n",
    "    print()"
   ]
  },
  {
   "cell_type": "code",
   "execution_count": 14,
   "metadata": {},
   "outputs": [
    {
     "name": "stdout",
     "output_type": "stream",
     "text": [
      "0 -> 0: False\n",
      "0 -> 1: 2\n",
      "0 -> 2: 3\n",
      "0 -> 3: False\n",
      "\n",
      "1 -> 0: False\n",
      "1 -> 1: False\n",
      "1 -> 2: 2\n",
      "1 -> 3: 1\n",
      "\n",
      "2 -> 0: False\n",
      "2 -> 1: 2\n",
      "2 -> 2: False\n",
      "2 -> 3: False\n",
      "\n",
      "3 -> 0: False\n",
      "3 -> 1: False\n",
      "3 -> 2: False\n",
      "3 -> 3: False\n",
      "\n"
     ]
    }
   ],
   "source": [
    "# n = g.keys()\n",
    "# a = (lambda x: x[0] if len(x) else False)\\\n",
    "# ([w for k, w in g[i] if k == j]\n",
    "\n",
    "n = g\n",
    "# n = g.keys()\n",
    "for i in n:\n",
    "    for j in n:\n",
    "        a = (lambda x: x[0] if len(x) else False)\\\n",
    "        ([w for k, w in g[i] if k == j])\n",
    "        print(f'{i} -> {j}: {a}')\n",
    "    print()"
   ]
  },
  {
   "cell_type": "markdown",
   "metadata": {},
   "source": [
    "#### edge list"
   ]
  },
  {
   "cell_type": "code",
   "execution_count": 15,
   "metadata": {},
   "outputs": [
    {
     "name": "stdout",
     "output_type": "stream",
     "text": [
      "(0, 1, 2)\n",
      "(0, 2, 3)\n",
      "(1, 2, 2)\n",
      "(1, 3, 1)\n",
      "(2, 1, 2)\n"
     ]
    }
   ],
   "source": [
    "g = [(0, 1, 2), (0, 2, 3),\n",
    "     (1, 2, 2), (1, 3, 1),\n",
    "     (2, 1, 2)]\n",
    "\n",
    "print(*g, sep='\\n')"
   ]
  },
  {
   "cell_type": "code",
   "execution_count": 16,
   "metadata": {},
   "outputs": [
    {
     "name": "stdout",
     "output_type": "stream",
     "text": [
      "0 -> 0: False\n",
      "0 -> 1: True\n",
      "0 -> 2: True\n",
      "0 -> 3: False\n",
      "\n",
      "1 -> 0: False\n",
      "1 -> 1: False\n",
      "1 -> 2: True\n",
      "1 -> 3: True\n",
      "\n",
      "2 -> 0: False\n",
      "2 -> 1: True\n",
      "2 -> 2: False\n",
      "2 -> 3: False\n",
      "\n",
      "3 -> 0: False\n",
      "3 -> 1: False\n",
      "3 -> 2: False\n",
      "3 -> 3: False\n",
      "\n"
     ]
    }
   ],
   "source": [
    "# n = {_[0] for _ in g} | {_[1] for _ in g}\n",
    "# a = (i, j) in [_[:2] for _ in g]\n",
    "\n",
    "n = {_[0] for _ in g} | {_[1] for _ in g}\n",
    "for i in n:\n",
    "    for j in n:\n",
    "        a = (i, j) in [_[:2] for _ in g]\n",
    "        print(f'{i} -> {j}: {a}')\n",
    "    print()"
   ]
  },
  {
   "cell_type": "code",
   "execution_count": 17,
   "metadata": {},
   "outputs": [
    {
     "name": "stdout",
     "output_type": "stream",
     "text": [
      "0 -> 0: False\n",
      "0 -> 1: 2\n",
      "0 -> 2: 3\n",
      "0 -> 3: False\n",
      "\n",
      "1 -> 0: False\n",
      "1 -> 1: False\n",
      "1 -> 2: 2\n",
      "1 -> 3: 1\n",
      "\n",
      "2 -> 0: False\n",
      "2 -> 1: 2\n",
      "2 -> 2: False\n",
      "2 -> 3: False\n",
      "\n",
      "3 -> 0: False\n",
      "3 -> 1: False\n",
      "3 -> 2: False\n",
      "3 -> 3: False\n",
      "\n"
     ]
    }
   ],
   "source": [
    "# n = {_[0] for _ in g} | {_[1] for _ in g}\n",
    "# a = (lambda x: x[0] if len(x) else False)\\\n",
    "# ([w for i_, j_, w in g if i_ == i and j_ == j])\n",
    "\n",
    "n = {_[0] for _ in g} | {_[1] for _ in g}\n",
    "for i in n:\n",
    "    for j in n:\n",
    "        a = (lambda x: x[0] if len(x) else False)\\\n",
    "        ([w for i_, j_, w in g if i_ == i and j_ == j])\n",
    "        print(f'{i} -> {j}: {a}')\n",
    "    print()"
   ]
  },
  {
   "cell_type": "code",
   "execution_count": 18,
   "metadata": {},
   "outputs": [
    {
     "name": "stdout",
     "output_type": "stream",
     "text": [
      "(1, 3, 1)\n",
      "(0, 2, 3)\n",
      "(1, 2, 2)\n",
      "(2, 1, 2)\n",
      "(0, 1, 2)\n"
     ]
    }
   ],
   "source": [
    "g = {(0, 1, 2), (0, 2, 3),\n",
    "     (1, 2, 2), (1, 3, 1),\n",
    "     (2, 1, 2)}\n",
    "\n",
    "print(*g, sep='\\n')"
   ]
  },
  {
   "cell_type": "code",
   "execution_count": 19,
   "metadata": {},
   "outputs": [
    {
     "name": "stdout",
     "output_type": "stream",
     "text": [
      "0 -> 0: False\n",
      "0 -> 1: True\n",
      "0 -> 2: True\n",
      "0 -> 3: False\n",
      "\n",
      "1 -> 0: False\n",
      "1 -> 1: False\n",
      "1 -> 2: True\n",
      "1 -> 3: True\n",
      "\n",
      "2 -> 0: False\n",
      "2 -> 1: True\n",
      "2 -> 2: False\n",
      "2 -> 3: False\n",
      "\n",
      "3 -> 0: False\n",
      "3 -> 1: False\n",
      "3 -> 2: False\n",
      "3 -> 3: False\n",
      "\n"
     ]
    }
   ],
   "source": [
    "# n = {_[0] for _ in g} | {_[1] for _ in g}\n",
    "# a = (i, j) in [_[:2] for _ in g]\n",
    "\n",
    "n = {_[0] for _ in g} | {_[1] for _ in g}\n",
    "for i in n:\n",
    "    for j in n:\n",
    "        a = (i, j) in [_[:2] for _ in g]\n",
    "        print(f'{i} -> {j}: {a}')\n",
    "    print()"
   ]
  },
  {
   "cell_type": "code",
   "execution_count": 20,
   "metadata": {},
   "outputs": [
    {
     "name": "stdout",
     "output_type": "stream",
     "text": [
      "0 -> 0: False\n",
      "0 -> 1: 2\n",
      "0 -> 2: 3\n",
      "0 -> 3: False\n",
      "\n",
      "1 -> 0: False\n",
      "1 -> 1: False\n",
      "1 -> 2: 2\n",
      "1 -> 3: 1\n",
      "\n",
      "2 -> 0: False\n",
      "2 -> 1: 2\n",
      "2 -> 2: False\n",
      "2 -> 3: False\n",
      "\n",
      "3 -> 0: False\n",
      "3 -> 1: False\n",
      "3 -> 2: False\n",
      "3 -> 3: False\n",
      "\n"
     ]
    }
   ],
   "source": [
    "# n = {_[0] for _ in g} | {_[1] for _ in g}\n",
    "# a = (lambda x: x[0] if len(x) else False)\\\n",
    "# ([w for i_, j_, w in g if i_ == i and j_ == j])\n",
    "\n",
    "n = {_[0] for _ in g} | {_[1] for _ in g}\n",
    "for i in n:\n",
    "    for j in n:\n",
    "        a = (lambda x: x[0] if len(x) else False)\\\n",
    "        ([w for i_, j_, w in g if i_ == i and j_ == j])\n",
    "        print(f'{i} -> {j}: {a}')\n",
    "    print()"
   ]
  }
 ],
 "metadata": {
  "kernelspec": {
   "display_name": "Python 3",
   "language": "python",
   "name": "python3"
  },
  "language_info": {
   "codemirror_mode": {
    "name": "ipython",
    "version": 3
   },
   "file_extension": ".py",
   "mimetype": "text/x-python",
   "name": "python",
   "nbconvert_exporter": "python",
   "pygments_lexer": "ipython3",
   "version": "3.8.5"
  }
 },
 "nbformat": 4,
 "nbformat_minor": 4
}
