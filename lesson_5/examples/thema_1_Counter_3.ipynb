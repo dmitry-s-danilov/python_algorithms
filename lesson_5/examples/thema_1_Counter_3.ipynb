{
 "cells": [
  {
   "cell_type": "code",
   "execution_count": 1,
   "metadata": {},
   "outputs": [],
   "source": [
    "from collections import Counter"
   ]
  },
  {
   "cell_type": "code",
   "execution_count": 2,
   "metadata": {},
   "outputs": [
    {
     "name": "stdout",
     "output_type": "stream",
     "text": [
      "<class 'str'>:\n",
      "abracadabra\n",
      "\n",
      "<class 'collections.Counter'>:\n",
      "Counter({'a': 5, 'b': 2, 'r': 2, 'c': 1, 'd': 1})\n"
     ]
    }
   ],
   "source": [
    "s = 'abracadabra'\n",
    "x = Counter(s)\n",
    "\n",
    "print(f'{type(s)}:\\n{s}',\n",
    "      f'{type(x)}:\\n{x}',\n",
    "      sep='\\n\\n')"
   ]
  },
  {
   "cell_type": "code",
   "execution_count": 3,
   "metadata": {},
   "outputs": [
    {
     "name": "stdout",
     "output_type": "stream",
     "text": [
      "Counter({'a': 5, 'b': 2, 'r': 2, 'c': 1, 'd': 1})\n",
      "['a', 'a', 'a', 'a', 'a', 'b', 'b', 'r', 'r', 'c', 'd']\n",
      "\n",
      "Counter({'a': 5, 'b': 2, 'r': 2, 'c': 1, 'd': 1, 'z': 0})\n",
      "['a', 'a', 'a', 'a', 'a', 'b', 'b', 'r', 'r', 'c', 'd']\n",
      "\n",
      "Counter({'a': 5, 'b': 2, 'r': 2, 'c': 1, 'd': 1, 'z': 1})\n",
      "['a', 'a', 'a', 'a', 'a', 'b', 'b', 'r', 'r', 'c', 'd', 'z']\n",
      "\n",
      "Counter({'a': 5, 'b': 2, 'r': 2, 'z': 2, 'c': 1, 'd': 1})\n",
      "['a', 'a', 'a', 'a', 'a', 'b', 'b', 'r', 'r', 'c', 'd', 'z', 'z']\n"
     ]
    }
   ],
   "source": [
    "print(x, list(x.elements()), sep='\\n', end='\\n\\n')\n",
    "\n",
    "x['z'] = 0\n",
    "\n",
    "print(x, list(x.elements()), sep='\\n', end='\\n\\n')\n",
    "\n",
    "x['z'] = 1\n",
    "\n",
    "print(x, list(x.elements()), sep='\\n', end='\\n\\n')\n",
    "\n",
    "\n",
    "x['z'] = 2\n",
    "\n",
    "print(x, list(x.elements()), sep='\\n')"
   ]
  }
 ],
 "metadata": {
  "kernelspec": {
   "display_name": "Python 3",
   "language": "python",
   "name": "python3"
  },
  "language_info": {
   "codemirror_mode": {
    "name": "ipython",
    "version": 3
   },
   "file_extension": ".py",
   "mimetype": "text/x-python",
   "name": "python",
   "nbconvert_exporter": "python",
   "pygments_lexer": "ipython3",
   "version": "3.8.5"
  }
 },
 "nbformat": 4,
 "nbformat_minor": 4
}
