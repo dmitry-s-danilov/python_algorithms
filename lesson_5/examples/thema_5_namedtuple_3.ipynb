{
 "cells": [
  {
   "cell_type": "code",
   "execution_count": 1,
   "metadata": {},
   "outputs": [],
   "source": [
    "from collections import namedtuple"
   ]
  },
  {
   "cell_type": "code",
   "execution_count": 2,
   "metadata": {},
   "outputs": [
    {
     "name": "stdout",
     "output_type": "stream",
     "text": [
      "<class '__main__.Point'>\n",
      "type: <class 'type'>\n",
      "fields: ('x', 'y', 'z')\n",
      "fields defaults: {'x': 0, 'y': 0, 'z': 0}\n",
      "\n",
      "Point(x=0, y=0, z=0)\n",
      "type: <class '__main__.Point'>\n",
      "fields: ('x', 'y', 'z')\n",
      "fields defaults: {'x': 0, 'y': 0, 'z': 0}\n"
     ]
    }
   ],
   "source": [
    "Point_prop = ['x', 'y', 'z']\n",
    "Point = namedtuple('Point', Point_prop, defaults=[0, 0, 0])\n",
    "\n",
    "print(Point,\n",
    "      f'type: {Point.__class__}',\n",
    "      f'fields: {Point._fields}',\n",
    "      f'fields defaults: {Point._field_defaults}',\n",
    "      sep='\\n', end='\\n\\n')\n",
    "\n",
    "point = Point()\n",
    "\n",
    "print(point,\n",
    "      f'type: {point.__class__}',\n",
    "      f'fields: {point._fields}',\n",
    "      f'fields defaults: {point._field_defaults}',\n",
    "      sep='\\n')"
   ]
  },
  {
   "cell_type": "code",
   "execution_count": 3,
   "metadata": {},
   "outputs": [
    {
     "name": "stdout",
     "output_type": "stream",
     "text": [
      "<class '__main__.Point'>\n",
      "type: <class 'type'>\n",
      "fields: ('x', 'y', 'z')\n",
      "fields defaults: {'y': 0, 'z': 0}\n",
      "\n",
      "Point(x=1, y=0, z=0)\n",
      "type: <class '__main__.Point'>\n",
      "fields: ('x', 'y', 'z')\n",
      "fields defaults: {'y': 0, 'z': 0}\n"
     ]
    }
   ],
   "source": [
    "Point_prop = ['x', 'y', 'z']\n",
    "Point = namedtuple('Point', Point_prop, defaults=[0, 0])\n",
    "\n",
    "print(Point,\n",
    "      f'type: {Point.__class__}',\n",
    "      f'fields: {Point._fields}',\n",
    "      f'fields defaults: {Point._field_defaults}',\n",
    "      sep='\\n', end='\\n\\n')\n",
    "\n",
    "point = Point(1)\n",
    "\n",
    "print(point,\n",
    "      f'type: {point.__class__}',\n",
    "      f'fields: {point._fields}',\n",
    "      f'fields defaults: {point._field_defaults}',\n",
    "      sep='\\n')"
   ]
  },
  {
   "cell_type": "code",
   "execution_count": 4,
   "metadata": {},
   "outputs": [
    {
     "name": "stdout",
     "output_type": "stream",
     "text": [
      "<class '__main__.Point'>\n",
      "type: <class 'type'>\n",
      "fields: ('x', 'y', 'z')\n",
      "fields defaults: {'z': 0}\n",
      "\n",
      "Point(x=1, y=1, z=0)\n",
      "type: <class '__main__.Point'>\n",
      "fields: ('x', 'y', 'z')\n",
      "fields defaults: {'z': 0}\n"
     ]
    }
   ],
   "source": [
    "Point_prop = ['x', 'y', 'z']\n",
    "Point = namedtuple('Point', Point_prop, defaults=[0])\n",
    "\n",
    "print(Point,\n",
    "      f'type: {Point.__class__}',\n",
    "      f'fields: {Point._fields}',\n",
    "      f'fields defaults: {Point._field_defaults}',\n",
    "      sep='\\n', end='\\n\\n')\n",
    "\n",
    "point = Point(1, 1)\n",
    "\n",
    "print(point,\n",
    "      f'type: {point.__class__}',\n",
    "      f'fields: {point._fields}',\n",
    "      f'fields defaults: {point._field_defaults}',\n",
    "      sep='\\n')"
   ]
  }
 ],
 "metadata": {
  "kernelspec": {
   "display_name": "Python 3",
   "language": "python",
   "name": "python3"
  },
  "language_info": {
   "codemirror_mode": {
    "name": "ipython",
    "version": 3
   },
   "file_extension": ".py",
   "mimetype": "text/x-python",
   "name": "python",
   "nbconvert_exporter": "python",
   "pygments_lexer": "ipython3",
   "version": "3.8.5"
  }
 },
 "nbformat": 4,
 "nbformat_minor": 4
}
