{
 "cells": [
  {
   "cell_type": "code",
   "execution_count": 1,
   "metadata": {},
   "outputs": [],
   "source": [
    "from collections import Counter"
   ]
  },
  {
   "cell_type": "code",
   "execution_count": 2,
   "metadata": {},
   "outputs": [],
   "source": [
    "x = Counter(a=1, b=2, c=3, d=0)\n",
    "y = Counter(a=3, b=2, c=1, d=0)"
   ]
  },
  {
   "cell_type": "code",
   "execution_count": 3,
   "metadata": {},
   "outputs": [
    {
     "name": "stdout",
     "output_type": "stream",
     "text": [
      "Counter({'c': 3, 'b': 2, 'a': 1, 'd': 0})\n",
      "Counter({'a': 3, 'b': 2, 'c': 1, 'd': 0})\n",
      "Counter({'c': 2, 'b': 0, 'd': 0, 'a': -2})\n",
      "Counter({'c': 2}) False\n"
     ]
    }
   ],
   "source": [
    "z = x.copy()\n",
    "\n",
    "print(z, y, sep='\\n')\n",
    "\n",
    "z.subtract(y)\n",
    "\n",
    "print(z)\n",
    "\n",
    "z_1 = x.copy()\n",
    "z_1 = z_1 - y\n",
    "z_0 = z_1 == z\n",
    "\n",
    "print(z_1, z_0)"
   ]
  }
 ],
 "metadata": {
  "kernelspec": {
   "display_name": "Python 3",
   "language": "python",
   "name": "python3"
  },
  "language_info": {
   "codemirror_mode": {
    "name": "ipython",
    "version": 3
   },
   "file_extension": ".py",
   "mimetype": "text/x-python",
   "name": "python",
   "nbconvert_exporter": "python",
   "pygments_lexer": "ipython3",
   "version": "3.8.5"
  }
 },
 "nbformat": 4,
 "nbformat_minor": 4
}
