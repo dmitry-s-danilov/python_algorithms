{
 "cells": [
  {
   "cell_type": "markdown",
   "metadata": {},
   "source": [
    "#### vertex graph"
   ]
  },
  {
   "cell_type": "code",
   "execution_count": 1,
   "metadata": {},
   "outputs": [
    {
     "name": "stdout",
     "output_type": "stream",
     "text": [
      "0: [0, 0, 0, 0, 0]\n",
      "1: [0, 0, 0, 0, 0]\n",
      "2: [0, 0, 0, 0, 0]\n",
      "3: [0, 0, 0, 0, 0]\n",
      "4: [0, 0, 0, 0, 0]\n",
      "5: [0, 0, 0, 0, 0]\n"
     ]
    }
   ],
   "source": [
    "g = [\n",
    "        [0, 0, 0, 0, 0], # vertex 0\n",
    "        [0, 0, 0, 0, 0], # vertex 1\n",
    "        [0, 0, 0, 0, 0], # vertex 2\n",
    "        [0, 0, 0, 0, 0], # vertex 3\n",
    "        [0, 0, 0, 0, 0], # vertex 4\n",
    "        [0, 0, 0, 0, 0], # vertex 5\n",
    "    ]\n",
    "\n",
    "for _ in enumerate(g):\n",
    "    print('{}: {}'.format(*_))"
   ]
  },
  {
   "cell_type": "markdown",
   "metadata": {},
   "source": [
    "#### graph with isolated vertex"
   ]
  },
  {
   "cell_type": "code",
   "execution_count": 2,
   "metadata": {},
   "outputs": [
    {
     "name": "stdout",
     "output_type": "stream",
     "text": [
      "0: [0, 1, 1, 1, 0, 0]\n",
      "1: [1, 0, 0, 1, 0, 0]\n",
      "2: [1, 0, 0, 0, 1, 0]\n",
      "3: [1, 1, 0, 0, 0, 0]\n",
      "4: [0, 0, 1, 0, 0, 0]\n",
      "5: [0, 0, 0, 0, 0, 0]\n"
     ]
    }
   ],
   "source": [
    "g = [\n",
    "        [0, 1, 1, 1, 0, 0], # vertex 0\n",
    "        [1, 0, 0, 1, 0, 0], # vertex 1\n",
    "        [1, 0, 0, 0, 1, 0], # vertex 2\n",
    "        [1, 1, 0, 0, 0, 0], # vertex 3\n",
    "        [0, 0, 1, 0, 0, 0], # vertex 4\n",
    "        [0, 0, 0, 0, 0, 0], # vertex 5 - isolated\n",
    "    ]\n",
    "\n",
    "for _ in enumerate(g):\n",
    "    print('{}: {}'.format(*_))"
   ]
  },
  {
   "cell_type": "markdown",
   "metadata": {},
   "source": [
    "#### disconnected graph"
   ]
  },
  {
   "cell_type": "code",
   "execution_count": 3,
   "metadata": {},
   "outputs": [
    {
     "name": "stdout",
     "output_type": "stream",
     "text": [
      "0: [0, 1, 1, 1, 0, 0]\n",
      "1: [1, 0, 0, 1, 0, 0]\n",
      "2: [1, 0, 0, 0, 0, 0]\n",
      "3: [1, 1, 0, 0, 0, 0]\n",
      "4: [0, 0, 0, 0, 0, 1]\n",
      "5: [0, 0, 0, 0, 1, 0]\n"
     ]
    }
   ],
   "source": [
    "g = [\n",
    "        [0, 1, 1, 1, 0, 0], # vertex 0\n",
    "        [1, 0, 0, 1, 0, 0], # vertex 1\n",
    "        [1, 0, 0, 0, 0, 0], # vertex 2\n",
    "        [1, 1, 0, 0, 0, 0], # vertex 3\n",
    "        [0, 0, 0, 0, 0, 1], # vertex 4\n",
    "        [0, 0, 0, 0, 1, 0], # vertex 5\n",
    "    ]\n",
    "\n",
    "for _ in enumerate(g):\n",
    "    print('{}: {}'.format(*_))"
   ]
  },
  {
   "cell_type": "markdown",
   "metadata": {},
   "source": [
    "#### connected graph with a cycle"
   ]
  },
  {
   "cell_type": "code",
   "execution_count": 4,
   "metadata": {},
   "outputs": [
    {
     "name": "stdout",
     "output_type": "stream",
     "text": [
      "0: [0, 1, 1, 1, 0, 0]\n",
      "1: [1, 0, 0, 1, 0, 0]\n",
      "2: [1, 0, 0, 0, 1, 0]\n",
      "3: [1, 1, 0, 0, 0, 0]\n",
      "4: [0, 0, 1, 0, 0, 1]\n",
      "5: [0, 0, 0, 0, 1, 0]\n"
     ]
    }
   ],
   "source": [
    "g = [\n",
    "        [0, 1, 1, 1, 0, 0], # vertex 0\n",
    "        [1, 0, 0, 1, 0, 0], # vertex 1\n",
    "        [1, 0, 0, 0, 1, 0], # vertex 2\n",
    "        [1, 1, 0, 0, 0, 0], # vertex 3\n",
    "        [0, 0, 1, 0, 0, 1], # vertex 4\n",
    "        [0, 0, 0, 0, 1, 0], # vertex 5\n",
    "    ]\n",
    "\n",
    "for _ in enumerate(g):\n",
    "    print('{}: {}'.format(*_))"
   ]
  },
  {
   "cell_type": "markdown",
   "metadata": {},
   "source": [
    "#### connected graph without a cycle (tree)"
   ]
  },
  {
   "cell_type": "code",
   "execution_count": 5,
   "metadata": {},
   "outputs": [
    {
     "name": "stdout",
     "output_type": "stream",
     "text": [
      "0: [0, 0, 1, 0, 0, 0]\n",
      "1: [0, 0, 0, 1, 0, 0]\n",
      "2: [1, 0, 0, 1, 1, 0]\n",
      "3: [0, 1, 1, 0, 0, 0]\n",
      "4: [0, 0, 1, 0, 0, 1]\n",
      "5: [0, 0, 0, 0, 1, 0]\n"
     ]
    }
   ],
   "source": [
    "g = [\n",
    "        [0, 0, 1, 0, 0, 0], # vertex 0\n",
    "        [0, 0, 0, 1, 0, 0], # vertex 1\n",
    "        [1, 0, 0, 1, 1, 0], # vertex 2\n",
    "        [0, 1, 1, 0, 0, 0], # vertex 3\n",
    "        [0, 0, 1, 0, 0, 1], # vertex 4\n",
    "        [0, 0, 0, 0, 1, 0], # vertex 5\n",
    "    ]\n",
    "\n",
    "for _ in enumerate(g):\n",
    "    print('{}: {}'.format(*_))"
   ]
  },
  {
   "cell_type": "markdown",
   "metadata": {},
   "source": [
    "#### connected graph with a loop"
   ]
  },
  {
   "cell_type": "code",
   "execution_count": 6,
   "metadata": {},
   "outputs": [
    {
     "name": "stdout",
     "output_type": "stream",
     "text": [
      "0: [0, 0, 1, 0, 0, 0]\n",
      "1: [0, 0, 0, 1, 0, 0]\n",
      "2: [1, 0, 0, 1, 1, 0]\n",
      "3: [0, 1, 1, 1, 0, 0]\n",
      "4: [0, 0, 1, 0, 0, 1]\n",
      "5: [0, 0, 0, 0, 1, 0]\n"
     ]
    }
   ],
   "source": [
    "g = [\n",
    "        [0, 0, 1, 0, 0, 0], # vertex 0\n",
    "        [0, 0, 0, 1, 0, 0], # vertex 1\n",
    "        [1, 0, 0, 1, 1, 0], # vertex 2\n",
    "        [0, 1, 1, 1, 0, 0], # vertex 3\n",
    "        [0, 0, 1, 0, 0, 1], # vertex 4\n",
    "        [0, 0, 0, 0, 1, 0], # vertex 5\n",
    "    ]\n",
    "\n",
    "for _ in enumerate(g):\n",
    "    print('{}: {}'.format(*_))"
   ]
  }
 ],
 "metadata": {
  "kernelspec": {
   "display_name": "Python 3",
   "language": "python",
   "name": "python3"
  },
  "language_info": {
   "codemirror_mode": {
    "name": "ipython",
    "version": 3
   },
   "file_extension": ".py",
   "mimetype": "text/x-python",
   "name": "python",
   "nbconvert_exporter": "python",
   "pygments_lexer": "ipython3",
   "version": "3.8.5"
  }
 },
 "nbformat": 4,
 "nbformat_minor": 4
}
