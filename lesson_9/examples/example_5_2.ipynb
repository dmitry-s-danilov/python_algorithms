{
 "cells": [
  {
   "cell_type": "code",
   "execution_count": 1,
   "metadata": {},
   "outputs": [],
   "source": [
    "import hashlib"
   ]
  },
  {
   "cell_type": "code",
   "execution_count": 2,
   "metadata": {},
   "outputs": [],
   "source": [
    "def Rabin_Karp(a: str, b:str, verbose=False) -> bool:\n",
    "    assert len(a) > 0 and len(b) > 0, \\\n",
    "    'Strings must have non zero lenghts.'\n",
    "    assert len(a) >= len(b), \\\n",
    "    'String length must be at least the length of the substring.'\n",
    "    \n",
    "    hash_b = hashlib.sha1(b.encode('utf8')).hexdigest()\n",
    "    \n",
    "    for i in range(len(a) - len(b) + 1):\n",
    "        if hashlib.sha1(a[i: i + len(b)].encode('utf8')).hexdigest() == hash_b:\n",
    "            if a[i: i + len(b)] == b:\n",
    "                return i\n",
    "\n",
    "    return -1"
   ]
  },
  {
   "cell_type": "code",
   "execution_count": 3,
   "metadata": {},
   "outputs": [],
   "source": [
    "# Set strings.\n",
    "s1 = 'Hello, World!'  # string \n",
    "s2 = 'World'  # substring"
   ]
  },
  {
   "cell_type": "code",
   "execution_count": 4,
   "metadata": {},
   "outputs": [
    {
     "name": "stdout",
     "output_type": "stream",
     "text": [
      "There is a substring 'World' of the string 'Hello, World!' in position 7\n"
     ]
    }
   ],
   "source": [
    "p = Rabin_Karp(s1, s2)\n",
    "\n",
    "print(f\"There is a substring '{s2}' of the string '{s1}' in position {p}\"\n",
    "      if p != -1\n",
    "      else f\"There is no substring '{s2}' in the string '{s1}'\")"
   ]
  }
 ],
 "metadata": {
  "kernelspec": {
   "display_name": "Python 3",
   "language": "python",
   "name": "python3"
  },
  "language_info": {
   "codemirror_mode": {
    "name": "ipython",
    "version": 3
   },
   "file_extension": ".py",
   "mimetype": "text/x-python",
   "name": "python",
   "nbconvert_exporter": "python",
   "pygments_lexer": "ipython3",
   "version": "3.8.5"
  }
 },
 "nbformat": 4,
 "nbformat_minor": 4
}
