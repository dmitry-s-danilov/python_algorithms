{
 "cells": [
  {
   "cell_type": "code",
   "execution_count": 1,
   "metadata": {},
   "outputs": [],
   "source": [
    "from collections import deque"
   ]
  },
  {
   "cell_type": "code",
   "execution_count": 2,
   "metadata": {},
   "outputs": [],
   "source": [
    "def bfs(graph, start, finish):\n",
    "    parent = [None for _ in range(len(graph))]\n",
    "    is_visited = [False for _ in range(len(graph))]\n",
    "    \n",
    "    deq = deque([start])\n",
    "    is_visited[start] = True\n",
    "    \n",
    "    while len(deq) > 0:\n",
    "        current = deq.pop()\n",
    "        if current == finish:\n",
    "            break\n",
    "        \n",
    "#         print(f'current: {current}',\n",
    "#               end='\\n\\n')\n",
    "        \n",
    "        for i, vertex in enumerate(graph[current]):\n",
    "            if vertex == 1 and not is_visited[i]:\n",
    "                is_visited[i] = True\n",
    "                parent[i] = current\n",
    "                deq.appendleft(i)\n",
    "                \n",
    "#                 print(f'parent: {parent}',\n",
    "#                       f'is_visited: {is_visited}',\n",
    "#                       f'deq: {deq}',\n",
    "#                       sep='\\n', end='\\n\\n')\n",
    "                \n",
    "    else:\n",
    "        return f'Из вершины {start} нельзя попасть в вершину {finish}'\n",
    "    \n",
    "#     print('*' * 78)\n",
    "    \n",
    "    cost = 0\n",
    "    way = deque([finish])\n",
    "    i = finish\n",
    "\n",
    "#     print(f'cost: {cost}',\n",
    "#           f'way: {way}',\n",
    "#           f'i: {i}',\n",
    "#           sep='\\n', end='\\n\\n')\n",
    "    \n",
    "    while parent[i] != start:\n",
    "        cost += 1\n",
    "        way.appendleft(parent[i])\n",
    "        i = parent[i]\n",
    "\n",
    "#         print(f'cost: {cost}',\n",
    "#               f'way: {way}',\n",
    "#               f'i: {i}',\n",
    "#               sep='\\n', end='\\n\\n')\n",
    "    \n",
    "    cost += 1\n",
    "    way.appendleft(start)\n",
    "\n",
    "#     print(f'cost: {cost}',\n",
    "#           f'way: {way}',\n",
    "#           sep='\\n', end='\\n' +  '*' * 78 + '\\n')\n",
    "\n",
    "    return f'кратчайший путь {way} длинною в {cost} условных едениц'"
   ]
  },
  {
   "cell_type": "code",
   "execution_count": 3,
   "metadata": {},
   "outputs": [],
   "source": [
    "g = [[0, 1, 1, 0, 1, 0, 0, 0],\n",
    "     [1, 0, 0, 0, 0, 0, 0, 0],\n",
    "     [1, 0, 0, 0, 1, 0, 0, 0],\n",
    "     [0, 0, 0, 0, 0, 1, 0, 0],\n",
    "     [1, 0, 1, 0, 0, 0, 1, 0],\n",
    "     [0, 0, 0, 1, 0, 0, 1, 1],\n",
    "     [0, 0, 0, 0, 1, 1, 0, 1],\n",
    "     [0, 0, 0, 0, 0, 1, 1, 0]]"
   ]
  },
  {
   "cell_type": "code",
   "execution_count": 5,
   "metadata": {},
   "outputs": [
    {
     "name": "stdout",
     "output_type": "stream",
     "text": [
      "кратчайший путь deque([1, 0, 4, 6, 5, 3]) длинною в 5 условных едениц\n"
     ]
    }
   ],
   "source": [
    "s, f = 1, 3\n",
    "# s, f = 2, 5\n",
    "print(bfs(g, s, f))"
   ]
  }
 ],
 "metadata": {
  "kernelspec": {
   "display_name": "Python 3",
   "language": "python",
   "name": "python3"
  },
  "language_info": {
   "codemirror_mode": {
    "name": "ipython",
    "version": 3
   },
   "file_extension": ".py",
   "mimetype": "text/x-python",
   "name": "python",
   "nbconvert_exporter": "python",
   "pygments_lexer": "ipython3",
   "version": "3.8.5"
  }
 },
 "nbformat": 4,
 "nbformat_minor": 4
}
