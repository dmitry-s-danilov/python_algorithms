{
 "cells": [
  {
   "cell_type": "markdown",
   "metadata": {},
   "source": [
    "### Задача 1\n",
    "\n",
    "Пользователь вводит данные\n",
    "о количестве предприятий, их наименования\n",
    "и прибыль за четыре квартала для каждого предприятия.\n",
    "Программа должна определить среднюю прибыль\n",
    "(за год для всех предприятий)\n",
    "и отдельно вывести наименования предприятий,\n",
    "чья прибыль выше среднего и ниже среднего."
   ]
  },
  {
   "cell_type": "code",
   "execution_count": 1,
   "metadata": {},
   "outputs": [],
   "source": [
    "from random import random"
   ]
  },
  {
   "cell_type": "code",
   "execution_count": 2,
   "metadata": {},
   "outputs": [],
   "source": [
    "def f(x):\n",
    "    y = dict()\n",
    "    z = 0\n",
    "    for _ in x:\n",
    "        y[_] = sum(x[_])\n",
    "        z += y[_]\n",
    "    \n",
    "    z /= len(y)\n",
    "    \n",
    "    u, v = [], []\n",
    "    for _ in y:\n",
    "        if y[_] < z:\n",
    "            u.append(_)\n",
    "        elif y[_] > z:\n",
    "            v.append(_)\n",
    "           \n",
    "    return z, u, v"
   ]
  },
  {
   "cell_type": "code",
   "execution_count": 5,
   "metadata": {},
   "outputs": [
    {
     "name": "stdout",
     "output_type": "stream",
     "text": [
      "companies quarter incomes:\n",
      "a: [9.11, 7.81, 1.49, 0.26]\n",
      "b: [2.89, 4.99, 1.35, 2.41]\n",
      "c: [6.83, 7.37, 7.72, 7.91]\n",
      "d: [6.92, 4.62, 2.87, 8.22]\n",
      "e: [3.55, 4.71, 0.74, 7.9]\n",
      "f: [4.68, 4.18, 8.17, 6.01]\n",
      "g: [7.92, 0.47, 7.27, 3.78]\n",
      "h: [3.13, 7.59, 7.26, 3.3]\n",
      "i: [4.58, 4.8, 2.71, 1.93]\n",
      "j: [5.93, 2.35, 0.7, 1.28]\n"
     ]
    }
   ],
   "source": [
    "n = 4\n",
    "r, k = 10, 2\n",
    "p = 'abcdefghij'\n",
    "q = {_: [round(r * random(), k)\n",
    "         for _ in range(n)]\n",
    "     for _ in p}\n",
    "\n",
    "print('companies quarter incomes:')\n",
    "for _ in q.items():\n",
    "    print('{}: {}'.format(*_))"
   ]
  },
  {
   "cell_type": "code",
   "execution_count": 4,
   "metadata": {},
   "outputs": [
    {
     "name": "stdout",
     "output_type": "stream",
     "text": [
      "average: 21.2\n",
      "\n",
      "less:\n",
      "['b', 'c', 'e', 'g', 'i', 'j']\n",
      "\n",
      "b: 17.08\n",
      "c: 17.62\n",
      "e: 20.96\n",
      "g: 16.79\n",
      "i: 11.9\n",
      "j: 20.75\n",
      "\n",
      "more:\n",
      "['a', 'd', 'f', 'h']\n",
      "\n",
      "a: 26.16\n",
      "d: 26.41\n",
      "f: 21.35\n",
      "h: 32.94\n"
     ]
    }
   ],
   "source": [
    "a, b, c = f(q)\n",
    "\n",
    "k = 2\n",
    "\n",
    "print(f'average: {round(a, k)}')\n",
    "\n",
    "print(f'\\nless:\\n{b}\\n')\n",
    "\n",
    "for _ in b:\n",
    "    print(f'{_}: {round(sum(q[_]), k)}')\n",
    "\n",
    "print(f'\\nmore:\\n{c}\\n')\n",
    "\n",
    "for _ in c:\n",
    "    print(f'{_}: {round(sum(q[_]), k)}')"
   ]
  }
 ],
 "metadata": {
  "kernelspec": {
   "display_name": "Python 3",
   "language": "python",
   "name": "python3"
  },
  "language_info": {
   "codemirror_mode": {
    "name": "ipython",
    "version": 3
   },
   "file_extension": ".py",
   "mimetype": "text/x-python",
   "name": "python",
   "nbconvert_exporter": "python",
   "pygments_lexer": "ipython3",
   "version": "3.8.5"
  }
 },
 "nbformat": 4,
 "nbformat_minor": 4
}
