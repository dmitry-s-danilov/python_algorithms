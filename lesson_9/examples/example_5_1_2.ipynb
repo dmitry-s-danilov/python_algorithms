{
 "cells": [
  {
   "cell_type": "code",
   "execution_count": 1,
   "metadata": {},
   "outputs": [],
   "source": [
    "import hashlib"
   ]
  },
  {
   "cell_type": "code",
   "execution_count": 2,
   "metadata": {},
   "outputs": [],
   "source": [
    "def is_eq_str(a: str, b:str) -> bool:\n",
    "    ha = hashlib.sha1(a.encode('utf8')).hexdigest()\n",
    "    hb = hashlib.sha1(b.encode('utf8')).hexdigest()\n",
    "    return ha == hb"
   ]
  },
  {
   "cell_type": "code",
   "execution_count": 3,
   "metadata": {},
   "outputs": [],
   "source": [
    "s1 = 'Hello, World!'  # first string\n",
    "s2 = s1[:]  # second string"
   ]
  },
  {
   "cell_type": "code",
   "execution_count": 4,
   "metadata": {},
   "outputs": [
    {
     "name": "stdout",
     "output_type": "stream",
     "text": [
      "Strings are equal.\n"
     ]
    }
   ],
   "source": [
    "print(\"Strings are equal.\"\n",
    "      if is_eq_str(s1, s2)\n",
    "      else \"Strings aren't eqaul\")"
   ]
  },
  {
   "cell_type": "code",
   "execution_count": 5,
   "metadata": {},
   "outputs": [
    {
     "name": "stdout",
     "output_type": "stream",
     "text": [
      "Strings aren't eqaul\n"
     ]
    }
   ],
   "source": [
    "print(\"Strings are equal.\"\n",
    "      if is_eq_str(s1, s2[:-1])\n",
    "      else \"Strings aren't eqaul\")"
   ]
  },
  {
   "cell_type": "code",
   "execution_count": 6,
   "metadata": {},
   "outputs": [
    {
     "name": "stdout",
     "output_type": "stream",
     "text": [
      "Strings are equal.\n"
     ]
    }
   ],
   "source": [
    "print(\"Strings are equal.\"\n",
    "      if is_eq_str(s1[:0], s2[:0])\n",
    "      else \"Strings aren't eqaul\")"
   ]
  }
 ],
 "metadata": {
  "kernelspec": {
   "display_name": "Python 3",
   "language": "python",
   "name": "python3"
  },
  "language_info": {
   "codemirror_mode": {
    "name": "ipython",
    "version": 3
   },
   "file_extension": ".py",
   "mimetype": "text/x-python",
   "name": "python",
   "nbconvert_exporter": "python",
   "pygments_lexer": "ipython3",
   "version": "3.8.5"
  }
 },
 "nbformat": 4,
 "nbformat_minor": 4
}
