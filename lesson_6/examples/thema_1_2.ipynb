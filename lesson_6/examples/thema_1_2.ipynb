{
 "cells": [
  {
   "cell_type": "code",
   "execution_count": 1,
   "metadata": {},
   "outputs": [
    {
     "name": "stdout",
     "output_type": "stream",
     "text": [
      "create stack: []\n",
      "append 1 to stack: [1]\n",
      "append 2 to stack: [1, 2]\n",
      "pop 2 from stack: [1]\n",
      "pop 1 from stack: []\n",
      "append 1 to stack: [1]\n"
     ]
    }
   ],
   "source": [
    "stack = []\n",
    "print(f'create stack: {stack}')\n",
    "\n",
    "spam = 1\n",
    "stack.append(spam)\n",
    "print(f'append {spam} to stack: {stack}')\n",
    "\n",
    "spam = 2\n",
    "stack.append(spam)\n",
    "print(f'append {spam} to stack: {stack}')\n",
    "\n",
    "spam = stack.pop()\n",
    "print(f'pop {spam} from stack: {stack}')\n",
    "\n",
    "spam = stack.pop()\n",
    "print(f'pop {spam} from stack: {stack}')\n",
    "\n",
    "stack.append(spam)\n",
    "print(f'append {spam} to stack: {stack}')"
   ]
  }
 ],
 "metadata": {
  "kernelspec": {
   "display_name": "Python 3",
   "language": "python",
   "name": "python3"
  },
  "language_info": {
   "codemirror_mode": {
    "name": "ipython",
    "version": 3
   },
   "file_extension": ".py",
   "mimetype": "text/x-python",
   "name": "python",
   "nbconvert_exporter": "python",
   "pygments_lexer": "ipython3",
   "version": "3.8.5"
  }
 },
 "nbformat": 4,
 "nbformat_minor": 4
}
