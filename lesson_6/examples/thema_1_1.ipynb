{
 "cells": [
  {
   "cell_type": "code",
   "execution_count": 1,
   "metadata": {},
   "outputs": [
    {
     "name": "stdout",
     "output_type": "stream",
     "text": [
      "-6 140060561425840\n",
      "-6 140060561425872\n",
      "True False\n"
     ]
    }
   ],
   "source": [
    "x = -6\n",
    "y = -7 + 1\n",
    "\n",
    "print(f'{x} {id(x)}',\n",
    "      f'{y} {id(y)}', \n",
    "      f'{x == y} {id(x) == id(y)}',\n",
    "      sep='\\n')"
   ]
  },
  {
   "cell_type": "code",
   "execution_count": 2,
   "metadata": {},
   "outputs": [
    {
     "name": "stdout",
     "output_type": "stream",
     "text": [
      "256 140060649801856\n",
      "256 140060649801856\n",
      "True True\n"
     ]
    }
   ],
   "source": [
    "x = 256\n",
    "y = 257 - 1\n",
    "\n",
    "print(f'{x} {id(x)}',\n",
    "      f'{y} {id(y)}', \n",
    "      f'{x == y} {id(x) == id(y)}',\n",
    "      sep='\\n')"
   ]
  },
  {
   "cell_type": "code",
   "execution_count": 3,
   "metadata": {},
   "outputs": [
    {
     "name": "stdout",
     "output_type": "stream",
     "text": [
      "256 140060649801856\n",
      "256 140060649801856\n",
      "True True\n"
     ]
    }
   ],
   "source": [
    "x = 256\n",
    "y = 255 + 1\n",
    "\n",
    "print(f'{x} {id(x)}',\n",
    "      f'{y} {id(y)}', \n",
    "      f'{x == y} {id(x) == id(y)}',\n",
    "      sep='\\n')"
   ]
  },
  {
   "cell_type": "code",
   "execution_count": 4,
   "metadata": {},
   "outputs": [
    {
     "name": "stdout",
     "output_type": "stream",
     "text": [
      "257 140060561426160\n",
      "257 140060561425680\n",
      "True False\n"
     ]
    }
   ],
   "source": [
    "x = 257\n",
    "y = 256 + 1\n",
    "\n",
    "print(f'{x} {id(x)}',\n",
    "      f'{y} {id(y)}', \n",
    "      f'{x == y} {id(x) == id(y)}',\n",
    "      sep='\\n')"
   ]
  }
 ],
 "metadata": {
  "kernelspec": {
   "display_name": "Python 3",
   "language": "python",
   "name": "python3"
  },
  "language_info": {
   "codemirror_mode": {
    "name": "ipython",
    "version": 3
   },
   "file_extension": ".py",
   "mimetype": "text/x-python",
   "name": "python",
   "nbconvert_exporter": "python",
   "pygments_lexer": "ipython3",
   "version": "3.8.5"
  }
 },
 "nbformat": 4,
 "nbformat_minor": 4
}
