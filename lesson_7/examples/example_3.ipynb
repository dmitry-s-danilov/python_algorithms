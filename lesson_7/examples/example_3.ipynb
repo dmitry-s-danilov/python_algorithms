{
 "cells": [
  {
   "cell_type": "markdown",
   "metadata": {},
   "source": [
    "# Geekbrains. Алгоритмы и структуры данных на Python\n",
    "## Урок 7. Алгоритмы сортировки"
   ]
  },
  {
   "cell_type": "markdown",
   "metadata": {},
   "source": [
    "### Пример 3. Алгоритм сортировки вставками\n",
    "\n",
    " сортировка           | пузырьком | выбором  | вставками  |\n",
    ":---------------------|:---------:|:--------:|:----------:|\n",
    "cложность             | $O(n^2)$  | $O(n^2)$ | $O(n^2)$   |\n",
    "устойчивость          | да        | да       | да         |\n",
    "тип                   | обменная  | выборная | вставочная |\n",
    "дополнительная память | нет       | нет      | нет        |\n"
   ]
  },
  {
   "cell_type": "code",
   "execution_count": 1,
   "metadata": {},
   "outputs": [],
   "source": [
    "from random import randint, shuffle\n",
    "from timeit import timeit"
   ]
  },
  {
   "cell_type": "code",
   "execution_count": 2,
   "metadata": {},
   "outputs": [],
   "source": [
    "def func_1(u):\n",
    "    \"\"\"bubble sort\"\"\"\n",
    "    for i in range(1, len(u)):  \n",
    "        for j in range(len(u) - i):\n",
    "            if u[j] > u[j + 1]:\n",
    "                u[j], u[j + 1] = u[j + 1], u[j]\n",
    "\n",
    "\n",
    "def func_2(u):\n",
    "    \"\"\"selection sort\"\"\"\n",
    "    for i in range(0, len(u)):\n",
    "        k = i\n",
    "        for j in range(k + 1, len(u)):\n",
    "            if u[j] < u[k]:\n",
    "                k = j\n",
    "        u[i], u[k] = u[k], u[i]\n",
    "\n",
    "\n",
    "def func_3(u):\n",
    "    \"\"\"insertion sort\"\"\"\n",
    "    for i in range(1, len(u)):\n",
    "        x = u[i]\n",
    "        j = i\n",
    "        while 0 < j and x < u[j - 1]:\n",
    "            u[j] = u[j -1]\n",
    "            j -= 1\n",
    "        u[j] = x"
   ]
  },
  {
   "cell_type": "code",
   "execution_count": 3,
   "metadata": {},
   "outputs": [],
   "source": [
    "check_fields = ('sample', 'benchmark', 'reference', 'check')\n",
    "\n",
    "def func_check(u, g, h): \n",
    "    n = 10000 # timeit numbers\n",
    "\n",
    "    v = u.copy()\n",
    "    g(v)\n",
    "\n",
    "    w = dict()\n",
    "    for f in h:\n",
    "        x = u.copy()\n",
    "        t = timeit('f(x)',\n",
    "                   number=n,\n",
    "                   globals=locals())\n",
    "        s = x == v\n",
    "        w[f.__name__] = (s, t)\n",
    "        \n",
    "    c = (u, v, g.__name__, w)\n",
    "    return c\n",
    "\n",
    "def check_string(c, k):\n",
    "    s = ''\n",
    "    \n",
    "    for _ in range(len(c) - 1):\n",
    "        s += f'{k[_]}: {c[_]}\\n'\n",
    "    \n",
    "    s += f'{k[-1]}:'\n",
    "    \n",
    "    for p, q in c[-1].items():\n",
    "        s += '\\n\\t{}: {} {}'.format(p, *q)\n",
    "    return s"
   ]
  },
  {
   "cell_type": "code",
   "execution_count": 4,
   "metadata": {},
   "outputs": [
    {
     "name": "stdout",
     "output_type": "stream",
     "text": [
      "0 [0, 1, 2, 3, 4, 5, 6, 7, 8, 9]\n",
      "1 [2, 5, 1, 4, 0, 9, 7, 8, 3, 6]\n",
      "2 [0, 2, 1, 6, 0, 6, 4, 8, 1, 8]\n"
     ]
    }
   ],
   "source": [
    "n = 10\n",
    "\n",
    "y = []\n",
    "\n",
    "x = [_ for _ in range(n)]\n",
    "y.append(x.copy())\n",
    "\n",
    "shuffle(x)\n",
    "y.append(x.copy())\n",
    "\n",
    "r = 0, n - 2\n",
    "x = [randint(*r) for _ in range(n)]\n",
    "y.append(x.copy())\n",
    "\n",
    "for _ in enumerate(y):\n",
    "    print('{} {}'.format(*_))"
   ]
  },
  {
   "cell_type": "code",
   "execution_count": 5,
   "metadata": {},
   "outputs": [
    {
     "name": "stdout",
     "output_type": "stream",
     "text": [
      "0\n",
      "sample: [0, 1, 2, 3, 4, 5, 6, 7, 8, 9]\n",
      "benchmark: [0, 1, 2, 3, 4, 5, 6, 7, 8, 9]\n",
      "reference: func_1\n",
      "check:\n",
      "\tfunc_1: True 0.13395921399933286\n",
      "\tfunc_2: True 0.14890084799844772\n",
      "\tfunc_3: True 0.029569891004939564\n",
      "\t<lambda>: True 0.003038864000700414\n",
      "\n",
      "1\n",
      "sample: [2, 5, 1, 4, 0, 9, 7, 8, 3, 6]\n",
      "benchmark: [0, 1, 2, 3, 4, 5, 6, 7, 8, 9]\n",
      "reference: func_1\n",
      "check:\n",
      "\tfunc_1: True 0.12832860900380183\n",
      "\tfunc_2: True 0.13888225599657744\n",
      "\tfunc_3: True 0.03098962499643676\n",
      "\t<lambda>: True 0.0030379559902939945\n",
      "\n",
      "2\n",
      "sample: [0, 2, 1, 6, 0, 6, 4, 8, 1, 8]\n",
      "benchmark: [0, 0, 1, 1, 2, 4, 6, 6, 8, 8]\n",
      "reference: func_1\n",
      "check:\n",
      "\tfunc_1: True 0.12839586599147879\n",
      "\tfunc_2: True 0.1400562880007783\n",
      "\tfunc_3: True 0.03292541600239929\n",
      "\t<lambda>: True 0.003201733998139389\n",
      "\n"
     ]
    }
   ],
   "source": [
    "funcs = (func_1, func_2, func_3, lambda x: x.sort())\n",
    "\n",
    "checks = [func_check(x, funcs[0], funcs)\n",
    "          for x in y]\n",
    "\n",
    "for index, check in enumerate(checks):\n",
    "    print(index,\n",
    "          check_string(check, check_fields),\n",
    "          sep='\\n', end='\\n\\n')"
   ]
  }
 ],
 "metadata": {
  "kernelspec": {
   "display_name": "Python 3",
   "language": "python",
   "name": "python3"
  },
  "language_info": {
   "codemirror_mode": {
    "name": "ipython",
    "version": 3
   },
   "file_extension": ".py",
   "mimetype": "text/x-python",
   "name": "python",
   "nbconvert_exporter": "python",
   "pygments_lexer": "ipython3",
   "version": "3.8.5"
  }
 },
 "nbformat": 4,
 "nbformat_minor": 4
}
